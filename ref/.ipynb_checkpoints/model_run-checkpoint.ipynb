{
 "cells": [
  {
   "cell_type": "code",
   "execution_count": 1,
   "metadata": {},
   "outputs": [
    {
     "name": "stderr",
     "output_type": "stream",
     "text": [
      "Using TensorFlow backend.\n"
     ]
    }
   ],
   "source": [
    "import numpy as np\n",
    "import sys \n",
    "import os\n",
    "import matplotlib.pyplot as plt\n",
    "#from utils import *\n",
    "import copy\n",
    "#import models\n",
    "import cv2\n",
    "from keras.preprocessing.image import ImageDataGenerator\n",
    "from sklearn.model_selection import train_test_split\n",
    "#import skimage.io as io\n",
    "#import skimage.transform as trans\n",
    "from keras.models import *\n",
    "from keras.layers import *\n",
    "from keras.optimizers import *\n",
    "from keras.callbacks import ModelCheckpoint, LearningRateScheduler\n",
    "from keras import backend as keras\n",
    "import keras.backend.tensorflow_backend as K"
   ]
  },
  {
   "cell_type": "code",
   "execution_count": 15,
   "metadata": {},
   "outputs": [],
   "source": [
    "img_width = 96\n",
    "img_height = 96\n",
    "img_depth = 24\n",
    "\n",
    "label_dir_pre = '/storage/filament/result/cluster_3d/40Mpc/label/'\n",
    "img_dir_pre = '/storage/filament/result/cluster_3d/40Mpc/density_smooting_plot_5/'\n",
    "\n",
    "box_list = ['box01/']\n",
    "tmp_img = []\n",
    "tmp_label = []\n",
    "aug_list = [0,90,180,270]\n",
    "\n",
    "data_list = []\n",
    "\n",
    "for box_num in box_list:\n",
    "    for sub_num in os.listdir(label_dir_pre + box_num):\n",
    "        peak_list = os.listdir(label_dir_pre + box_num + sub_num + '/')\n",
    "        for peak_num in peak_list:\n",
    "            label_dir = label_dir_pre + box_num + sub_num + '/' + peak_num + '/whole/'\n",
    "            img_dir = img_dir_pre + box_num + sub_num + '/' + peak_num + '/'\n",
    "\n",
    "            for aug_dir in aug_list:\n",
    "                os.chdir(label_dir+str(aug_dir)+'/')\n",
    "                for nn,_ in enumerate(os.listdir(label_dir + str(aug_dir) + '/')):\n",
    "                    tmp_label.append(cv2.resize(cv2.imread(label_dir + str(aug_dir) + '/' + str(nn) + '.png',cv2.IMREAD_GRAYSCALE),(img_width,img_height)))\n",
    "                data_name = str(\"box_num \" + str(box_num) + \" sub_box \" + str(sub_num) + \" peak_num \" + str(peak_num) + \" aug_dir \" + str(aug_dir))\n",
    "                data_list.append(data_name)\n",
    "                for nn,_ in enumerate(os.listdir(label_dir + 'z/'+ str(aug_dir) + '/')):\n",
    "                    tmp_label.append(cv2.resize(cv2.imread(label_dir + 'z/'+ str(aug_dir) + '/'+ str(nn) + '.png',cv2.IMREAD_GRAYSCALE),(img_width,img_height)))\n",
    "                data_name = str(\"box_num \" + str(box_num) + \" sub_box \" + str(sub_num) + \" peak_num \" + str(peak_num) + \" aug_dir \" + str(aug_dir) + \"with z\")\n",
    "                data_list.append(data_name)\n",
    "                    \n",
    "                    \n",
    "                os.chdir(img_dir+str(aug_dir)+'/')\n",
    "                for nn,_ in enumerate(os.listdir(img_dir + str(aug_dir) + '/')):\n",
    "                    tmp_img.append(cv2.resize(cv2.imread(img_dir + str(aug_dir) + '/' + str(nn) + '.png',cv2.IMREAD_GRAYSCALE),(img_width,img_height)))\n",
    "                for nn,_ in enumerate(os.listdir(img_dir + 'z/'+ str(aug_dir) + '/')):\n",
    "                    tmp_img.append(cv2.resize(cv2.imread(img_dir + 'z/'+ str(aug_dir) + '/' + str(nn) + '.png',cv2.IMREAD_GRAYSCALE),(img_width,img_height)))\n"
   ]
  },
  {
   "cell_type": "code",
   "execution_count": 16,
   "metadata": {},
   "outputs": [],
   "source": [
    "label_file = np.array(tmp_label)/255.\n",
    "img_file = np.array(tmp_img)\n",
    "\n",
    "length = label_file.shape[0]"
   ]
  },
  {
   "cell_type": "code",
   "execution_count": 36,
   "metadata": {},
   "outputs": [],
   "source": [
    "img_file = img_file.reshape([len(data_list),96,96,96])\n",
    "label_file = label_file.reshape([len(data_list),96,96,96])"
   ]
  },
  {
   "cell_type": "code",
   "execution_count": 37,
   "metadata": {},
   "outputs": [],
   "source": [
    "img_train = []\n",
    "label_train = []\n",
    "img_val = []\n",
    "label_val = []\n",
    "for nn in range(len(data_list)):\n",
    "    if nn == 7 or nn == 15 or nn == 23:\n",
    "        img_val.append(img_file[nn,:,:,:])\n",
    "        label_val.append(label_file[nn,:,:,:])\n",
    "    else:\n",
    "        img_train.append(img_file[nn,:,:,:])\n",
    "        label_train.append(label_file[nn,:,:,:])"
   ]
  },
  {
   "cell_type": "code",
   "execution_count": null,
   "metadata": {},
   "outputs": [],
   "source": [
    "img_train = np.array(img_train)\n",
    "label_train = np.array(label_train)\n",
    "\n",
    "img_val = np.array(img_val)\n",
    "label_val = np.array(label_val)"
   ]
  },
  {
   "cell_type": "code",
   "execution_count": 40,
   "metadata": {},
   "outputs": [
    {
     "data": {
      "text/plain": [
       "((21, 96, 96, 96), (3, 96, 96, 96))"
      ]
     },
     "execution_count": 40,
     "metadata": {},
     "output_type": "execute_result"
    }
   ],
   "source": [
    "img_train.shape,img_val.shape"
   ]
  },
  {
   "cell_type": "code",
   "execution_count": 43,
   "metadata": {},
   "outputs": [],
   "source": [
    "label_train = label_train.reshape([21*4,img_depth,img_height,img_width])\n",
    "img_train = img_train.reshape([21*4,img_depth,img_height,img_width])\n",
    "\n",
    "label_val = label_val.reshape([3*4,img_depth,img_height,img_width])\n",
    "img_val = img_val.reshape([3*4,img_depth,img_height,img_width])\n",
    "\n",
    "\n",
    "label_train = np.expand_dims(label_train,axis=-1)\n",
    "img_train = np.expand_dims(img_train,axis=-1)\n",
    "\n",
    "label_val = np.expand_dims(label_val,axis=-1)\n",
    "img_val = np.expand_dims(img_val,axis=-1)"
   ]
  },
  {
   "cell_type": "code",
   "execution_count": 45,
   "metadata": {},
   "outputs": [
    {
     "data": {
      "text/plain": [
       "<matplotlib.image.AxesImage at 0x7fd125a19b70>"
      ]
     },
     "execution_count": 45,
     "metadata": {},
     "output_type": "execute_result"
    },
    {
     "data": {
      "image/png": "[encoded data removed]",
      "text/plain": [
       "<Figure size 432x288 with 1 Axes>"
      ]
     },
     "metadata": {
      "needs_background": "light"
     },
     "output_type": "display_data"
    }
   ],
   "source": [
    "plt.imshow(img_val[0,0,:,:,0])"
   ]
  },
  {
   "cell_type": "code",
   "execution_count": 47,
   "metadata": {},
   "outputs": [
    {
     "name": "stdout",
     "output_type": "stream",
     "text": [
      "WARNING:tensorflow:From /home/ha/anaconda3/envs/research_filament/lib/python3.6/site-packages/tensorflow_core/python/ops/resource_variable_ops.py:1630: calling BaseResourceVariable.__init__ (from tensorflow.python.ops.resource_variable_ops) with constraint is deprecated and will be removed in a future version.\n",
      "Instructions for updating:\n",
      "If using Keras pass *_constraint arguments to layers.\n",
      "WARNING:tensorflow:From /home/ha/anaconda3/envs/research_filament/lib/python3.6/site-packages/keras/backend/tensorflow_backend.py:422: The name tf.global_variables is deprecated. Please use tf.compat.v1.global_variables instead.\n",
      "\n",
      "Train on 84 samples, validate on 12 samples\n",
      "Epoch 1/100\n",
      "84/84 [==============================] - 155s 2s/step - loss: -0.1263 - dice_coef: 0.1263 - val_loss: -0.0717 - val_dice_coef: 0.0717\n",
      "Epoch 2/100\n",
      "84/84 [==============================] - 151s 2s/step - loss: -0.1460 - dice_coef: 0.1460 - val_loss: -0.0731 - val_dice_coef: 0.0731\n",
      "Epoch 3/100\n",
      "84/84 [==============================] - 152s 2s/step - loss: -0.1573 - dice_coef: 0.1573 - val_loss: -0.0748 - val_dice_coef: 0.0748\n",
      "Epoch 4/100\n",
      "84/84 [==============================] - 147s 2s/step - loss: -0.1679 - dice_coef: 0.1679 - val_loss: -0.0917 - val_dice_coef: 0.0917\n",
      "Epoch 5/100\n",
      "84/84 [==============================] - 151s 2s/step - loss: -0.1798 - dice_coef: 0.1798 - val_loss: -0.0979 - val_dice_coef: 0.0979\n",
      "Epoch 6/100\n",
      "84/84 [==============================] - 150s 2s/step - loss: -0.1969 - dice_coef: 0.1969 - val_loss: -0.1129 - val_dice_coef: 0.1129\n",
      "Epoch 7/100\n",
      "84/84 [==============================] - 150s 2s/step - loss: -0.2149 - dice_coef: 0.2149 - val_loss: -0.1199 - val_dice_coef: 0.1199\n",
      "Epoch 8/100\n",
      "84/84 [==============================] - 151s 2s/step - loss: -0.2367 - dice_coef: 0.2367 - val_loss: -0.1525 - val_dice_coef: 0.1525\n",
      "Epoch 9/100\n",
      "84/84 [==============================] - 151s 2s/step - loss: -0.2626 - dice_coef: 0.2626 - val_loss: -0.1664 - val_dice_coef: 0.1664\n",
      "Epoch 10/100\n",
      "84/84 [==============================] - 144s 2s/step - loss: -0.2894 - dice_coef: 0.2894 - val_loss: -0.1539 - val_dice_coef: 0.1539\n",
      "Epoch 11/100\n",
      "84/84 [==============================] - 149s 2s/step - loss: -0.3230 - dice_coef: 0.3230 - val_loss: -0.1624 - val_dice_coef: 0.1624\n",
      "Epoch 12/100\n",
      "84/84 [==============================] - 144s 2s/step - loss: -0.3502 - dice_coef: 0.3502 - val_loss: -0.2153 - val_dice_coef: 0.2153\n",
      "Epoch 13/100\n",
      "84/84 [==============================] - 145s 2s/step - loss: -0.3847 - dice_coef: 0.3847 - val_loss: -0.2331 - val_dice_coef: 0.2331\n",
      "Epoch 14/100\n",
      "84/84 [==============================] - 145s 2s/step - loss: -0.4233 - dice_coef: 0.4233 - val_loss: -0.2386 - val_dice_coef: 0.2386\n",
      "Epoch 15/100\n",
      "84/84 [==============================] - 145s 2s/step - loss: -0.4614 - dice_coef: 0.4614 - val_loss: -0.2455 - val_dice_coef: 0.2455\n",
      "Epoch 16/100\n",
      "84/84 [==============================] - 145s 2s/step - loss: -0.4917 - dice_coef: 0.4917 - val_loss: -0.2409 - val_dice_coef: 0.2409\n",
      "Epoch 17/100\n",
      "84/84 [==============================] - 145s 2s/step - loss: -0.5259 - dice_coef: 0.5259 - val_loss: -0.2931 - val_dice_coef: 0.2931\n",
      "Epoch 18/100\n",
      "84/84 [==============================] - 145s 2s/step - loss: -0.5427 - dice_coef: 0.5427 - val_loss: -0.3552 - val_dice_coef: 0.3552\n",
      "Epoch 19/100\n",
      "84/84 [==============================] - 145s 2s/step - loss: -0.5432 - dice_coef: 0.5432 - val_loss: -0.3128 - val_dice_coef: 0.3128\n",
      "Epoch 20/100\n",
      "84/84 [==============================] - 145s 2s/step - loss: -0.5880 - dice_coef: 0.5880 - val_loss: -0.4525 - val_dice_coef: 0.4525\n",
      "Epoch 21/100\n",
      "84/84 [==============================] - 146s 2s/step - loss: -0.6344 - dice_coef: 0.6344 - val_loss: -0.4443 - val_dice_coef: 0.4443\n",
      "Epoch 22/100\n",
      "84/84 [==============================] - 145s 2s/step - loss: -0.6300 - dice_coef: 0.6300 - val_loss: -0.5089 - val_dice_coef: 0.5089\n",
      "Epoch 23/100\n",
      "84/84 [==============================] - 145s 2s/step - loss: -0.6270 - dice_coef: 0.6270 - val_loss: -0.1981 - val_dice_coef: 0.1981\n",
      "Epoch 24/100\n",
      "84/84 [==============================] - 145s 2s/step - loss: -0.6527 - dice_coef: 0.6527 - val_loss: -0.3879 - val_dice_coef: 0.3879\n",
      "Epoch 25/100\n",
      "84/84 [==============================] - 145s 2s/step - loss: -0.6515 - dice_coef: 0.6515 - val_loss: -0.3283 - val_dice_coef: 0.3283\n",
      "Epoch 26/100\n",
      "84/84 [==============================] - 145s 2s/step - loss: -0.6760 - dice_coef: 0.6760 - val_loss: -0.5108 - val_dice_coef: 0.5108\n",
      "Epoch 27/100\n",
      "84/84 [==============================] - 146s 2s/step - loss: -0.6761 - dice_coef: 0.6761 - val_loss: -0.5140 - val_dice_coef: 0.5140\n",
      "Epoch 28/100\n",
      "84/84 [==============================] - 145s 2s/step - loss: -0.6760 - dice_coef: 0.6760 - val_loss: -0.5272 - val_dice_coef: 0.5272\n",
      "Epoch 29/100\n",
      "84/84 [==============================] - 146s 2s/step - loss: -0.6791 - dice_coef: 0.6791 - val_loss: -0.5232 - val_dice_coef: 0.5232\n",
      "Epoch 30/100\n",
      "84/84 [==============================] - 145s 2s/step - loss: -0.6944 - dice_coef: 0.6944 - val_loss: -0.4792 - val_dice_coef: 0.4792\n",
      "Epoch 31/100\n",
      "84/84 [==============================] - 146s 2s/step - loss: -0.6914 - dice_coef: 0.6914 - val_loss: -0.5626 - val_dice_coef: 0.5626\n",
      "Epoch 32/100\n",
      "84/84 [==============================] - 145s 2s/step - loss: -0.7062 - dice_coef: 0.7062 - val_loss: -0.4408 - val_dice_coef: 0.4408\n",
      "Epoch 33/100\n",
      "84/84 [==============================] - 146s 2s/step - loss: -0.7100 - dice_coef: 0.7100 - val_loss: -0.5409 - val_dice_coef: 0.5409\n",
      "Epoch 34/100\n",
      "84/84 [==============================] - 154s 2s/step - loss: -0.7220 - dice_coef: 0.7220 - val_loss: -0.5855 - val_dice_coef: 0.5855\n",
      "Epoch 35/100\n",
      "84/84 [==============================] - 155s 2s/step - loss: -0.7407 - dice_coef: 0.7407 - val_loss: -0.6382 - val_dice_coef: 0.6382\n",
      "Epoch 36/100\n",
      "84/84 [==============================] - 160s 2s/step - loss: -0.7340 - dice_coef: 0.7340 - val_loss: -0.5513 - val_dice_coef: 0.5513\n",
      "Epoch 37/100\n",
      "84/84 [==============================] - 156s 2s/step - loss: -0.7396 - dice_coef: 0.7396 - val_loss: -0.5427 - val_dice_coef: 0.5427\n",
      "Epoch 38/100\n",
      "84/84 [==============================] - 156s 2s/step - loss: -0.7541 - dice_coef: 0.7541 - val_loss: -0.4694 - val_dice_coef: 0.4694\n",
      "Epoch 39/100\n",
      "84/84 [==============================] - 153s 2s/step - loss: -0.7570 - dice_coef: 0.7570 - val_loss: -0.6461 - val_dice_coef: 0.6461\n",
      "Epoch 40/100\n",
      "84/84 [==============================] - 152s 2s/step - loss: -0.7603 - dice_coef: 0.7603 - val_loss: -0.5611 - val_dice_coef: 0.5611\n",
      "Epoch 41/100\n",
      "84/84 [==============================] - 152s 2s/step - loss: -0.7632 - dice_coef: 0.7632 - val_loss: -0.5359 - val_dice_coef: 0.5359\n",
      "Epoch 42/100\n",
      "84/84 [==============================] - 153s 2s/step - loss: -0.7669 - dice_coef: 0.7669 - val_loss: -0.6482 - val_dice_coef: 0.6482\n",
      "Epoch 43/100\n",
      "84/84 [==============================] - 156s 2s/step - loss: -0.7712 - dice_coef: 0.7712 - val_loss: -0.4476 - val_dice_coef: 0.4476\n",
      "Epoch 44/100\n",
      "84/84 [==============================] - 156s 2s/step - loss: -0.7708 - dice_coef: 0.7708 - val_loss: -0.6416 - val_dice_coef: 0.6416\n",
      "Epoch 45/100\n",
      "84/84 [==============================] - 157s 2s/step - loss: -0.7759 - dice_coef: 0.7759 - val_loss: -0.6512 - val_dice_coef: 0.6512\n",
      "Epoch 46/100\n",
      "84/84 [==============================] - 157s 2s/step - loss: -0.7728 - dice_coef: 0.7728 - val_loss: -0.3529 - val_dice_coef: 0.3529\n",
      "Epoch 47/100\n",
      "84/84 [==============================] - 157s 2s/step - loss: -0.7567 - dice_coef: 0.7567 - val_loss: -0.5373 - val_dice_coef: 0.5373\n",
      "Epoch 48/100\n",
      "84/84 [==============================] - 157s 2s/step - loss: -0.7703 - dice_coef: 0.7703 - val_loss: -0.6491 - val_dice_coef: 0.6491\n",
      "Epoch 49/100\n",
      "84/84 [==============================] - 157s 2s/step - loss: -0.7772 - dice_coef: 0.7772 - val_loss: -0.6276 - val_dice_coef: 0.6276\n",
      "Epoch 50/100\n",
      "84/84 [==============================] - 157s 2s/step - loss: -0.7924 - dice_coef: 0.7924 - val_loss: -0.6575 - val_dice_coef: 0.6575\n",
      "Epoch 51/100\n",
      "84/84 [==============================] - 158s 2s/step - loss: -0.7934 - dice_coef: 0.7934 - val_loss: -0.6730 - val_dice_coef: 0.6730\n",
      "Epoch 52/100\n"
     ]
    },
    {
     "name": "stdout",
     "output_type": "stream",
     "text": [
      "84/84 [==============================] - 153s 2s/step - loss: -0.7982 - dice_coef: 0.7982 - val_loss: -0.6412 - val_dice_coef: 0.6412\n",
      "Epoch 53/100\n",
      "84/84 [==============================] - 151s 2s/step - loss: -0.7989 - dice_coef: 0.7989 - val_loss: -0.6435 - val_dice_coef: 0.6435\n",
      "Epoch 54/100\n",
      "84/84 [==============================] - 155s 2s/step - loss: -0.7962 - dice_coef: 0.7962 - val_loss: -0.6077 - val_dice_coef: 0.6077\n",
      "Epoch 55/100\n",
      "84/84 [==============================] - 156s 2s/step - loss: -0.8042 - dice_coef: 0.8042 - val_loss: -0.6581 - val_dice_coef: 0.6581\n",
      "Epoch 56/100\n",
      "84/84 [==============================] - 156s 2s/step - loss: -0.8097 - dice_coef: 0.8097 - val_loss: -0.5490 - val_dice_coef: 0.5490\n",
      "Epoch 57/100\n",
      "84/84 [==============================] - 157s 2s/step - loss: -0.8143 - dice_coef: 0.8143 - val_loss: -0.5996 - val_dice_coef: 0.5996\n",
      "Epoch 58/100\n",
      "84/84 [==============================] - 157s 2s/step - loss: -0.8144 - dice_coef: 0.8144 - val_loss: -0.6545 - val_dice_coef: 0.6545\n",
      "Epoch 59/100\n",
      "84/84 [==============================] - 156s 2s/step - loss: -0.8109 - dice_coef: 0.8109 - val_loss: -0.6271 - val_dice_coef: 0.6271\n",
      "Epoch 60/100\n",
      "84/84 [==============================] - 157s 2s/step - loss: -0.8164 - dice_coef: 0.8164 - val_loss: -0.6703 - val_dice_coef: 0.6703\n",
      "Epoch 61/100\n",
      "84/84 [==============================] - 158s 2s/step - loss: -0.8190 - dice_coef: 0.8190 - val_loss: -0.6409 - val_dice_coef: 0.6409\n",
      "Epoch 62/100\n",
      "84/84 [==============================] - 162s 2s/step - loss: -0.8225 - dice_coef: 0.8225 - val_loss: -0.6811 - val_dice_coef: 0.6811\n",
      "Epoch 63/100\n",
      "84/84 [==============================] - 161s 2s/step - loss: -0.8231 - dice_coef: 0.8231 - val_loss: -0.6705 - val_dice_coef: 0.6705\n",
      "Epoch 64/100\n",
      "84/84 [==============================] - 162s 2s/step - loss: -0.8069 - dice_coef: 0.8069 - val_loss: -0.5440 - val_dice_coef: 0.5440\n",
      "Epoch 65/100\n",
      "84/84 [==============================] - 157s 2s/step - loss: -0.8043 - dice_coef: 0.8043 - val_loss: -0.5995 - val_dice_coef: 0.5995\n",
      "Epoch 66/100\n",
      "84/84 [==============================] - 157s 2s/step - loss: -0.8121 - dice_coef: 0.8121 - val_loss: -0.6687 - val_dice_coef: 0.6687\n",
      "Epoch 67/100\n",
      "84/84 [==============================] - 157s 2s/step - loss: -0.8207 - dice_coef: 0.8207 - val_loss: -0.6960 - val_dice_coef: 0.6960\n",
      "Epoch 68/100\n",
      "84/84 [==============================] - 157s 2s/step - loss: -0.8311 - dice_coef: 0.8311 - val_loss: -0.6548 - val_dice_coef: 0.6548\n",
      "Epoch 69/100\n",
      "84/84 [==============================] - 157s 2s/step - loss: -0.8148 - dice_coef: 0.8148 - val_loss: -0.6473 - val_dice_coef: 0.6473\n",
      "Epoch 70/100\n",
      "84/84 [==============================] - 157s 2s/step - loss: -0.8202 - dice_coef: 0.8202 - val_loss: -0.6012 - val_dice_coef: 0.6012\n",
      "Epoch 71/100\n",
      "84/84 [==============================] - 158s 2s/step - loss: -0.8273 - dice_coef: 0.8273 - val_loss: -0.6737 - val_dice_coef: 0.6737\n",
      "Epoch 72/100\n",
      "84/84 [==============================] - 158s 2s/step - loss: -0.8402 - dice_coef: 0.8402 - val_loss: -0.6857 - val_dice_coef: 0.6857\n",
      "Epoch 73/100\n",
      "84/84 [==============================] - 158s 2s/step - loss: -0.8406 - dice_coef: 0.8406 - val_loss: -0.6760 - val_dice_coef: 0.6760\n",
      "Epoch 74/100\n",
      "84/84 [==============================] - 158s 2s/step - loss: -0.8363 - dice_coef: 0.8363 - val_loss: -0.6827 - val_dice_coef: 0.6827\n",
      "Epoch 75/100\n",
      "84/84 [==============================] - 156s 2s/step - loss: -0.8403 - dice_coef: 0.8403 - val_loss: -0.6273 - val_dice_coef: 0.6273\n",
      "Epoch 76/100\n",
      "84/84 [==============================] - 153s 2s/step - loss: -0.8452 - dice_coef: 0.8452 - val_loss: -0.6357 - val_dice_coef: 0.6357\n",
      "Epoch 77/100\n",
      "84/84 [==============================] - 157s 2s/step - loss: -0.8494 - dice_coef: 0.8494 - val_loss: -0.6514 - val_dice_coef: 0.6514\n",
      "Epoch 78/100\n",
      "84/84 [==============================] - 156s 2s/step - loss: -0.8491 - dice_coef: 0.8491 - val_loss: -0.6680 - val_dice_coef: 0.6680\n",
      "Epoch 79/100\n",
      "84/84 [==============================] - 157s 2s/step - loss: -0.8534 - dice_coef: 0.8534 - val_loss: -0.6950 - val_dice_coef: 0.6950\n",
      "Epoch 80/100\n",
      "84/84 [==============================] - 156s 2s/step - loss: -0.8403 - dice_coef: 0.8403 - val_loss: -0.6519 - val_dice_coef: 0.6519\n",
      "Epoch 81/100\n",
      "84/84 [==============================] - 157s 2s/step - loss: -0.8428 - dice_coef: 0.8428 - val_loss: -0.6344 - val_dice_coef: 0.6344\n",
      "Epoch 82/100\n",
      "84/84 [==============================] - 156s 2s/step - loss: -0.8478 - dice_coef: 0.8478 - val_loss: -0.6264 - val_dice_coef: 0.6264\n",
      "Epoch 83/100\n",
      "84/84 [==============================] - 156s 2s/step - loss: -0.8510 - dice_coef: 0.8510 - val_loss: -0.5742 - val_dice_coef: 0.5742\n",
      "Epoch 84/100\n",
      "84/84 [==============================] - 156s 2s/step - loss: -0.8506 - dice_coef: 0.8506 - val_loss: -0.5455 - val_dice_coef: 0.5455\n",
      "Epoch 85/100\n",
      "84/84 [==============================] - 156s 2s/step - loss: -0.8507 - dice_coef: 0.8507 - val_loss: -0.5874 - val_dice_coef: 0.5874\n",
      "Epoch 86/100\n",
      "84/84 [==============================] - 157s 2s/step - loss: -0.8585 - dice_coef: 0.8585 - val_loss: -0.6098 - val_dice_coef: 0.6098\n",
      "Epoch 87/100\n",
      "84/84 [==============================] - 156s 2s/step - loss: -0.8619 - dice_coef: 0.8619 - val_loss: -0.6769 - val_dice_coef: 0.6769\n",
      "Epoch 88/100\n",
      "84/84 [==============================] - 157s 2s/step - loss: -0.8629 - dice_coef: 0.8629 - val_loss: -0.6593 - val_dice_coef: 0.6593\n",
      "Epoch 89/100\n",
      "84/84 [==============================] - 157s 2s/step - loss: -0.8625 - dice_coef: 0.8625 - val_loss: -0.6929 - val_dice_coef: 0.6929\n",
      "Epoch 90/100\n",
      "84/84 [==============================] - 156s 2s/step - loss: -0.8638 - dice_coef: 0.8638 - val_loss: -0.6503 - val_dice_coef: 0.6503\n",
      "Epoch 91/100\n",
      "84/84 [==============================] - 158s 2s/step - loss: -0.8683 - dice_coef: 0.8683 - val_loss: -0.6983 - val_dice_coef: 0.6983\n",
      "Epoch 92/100\n",
      "84/84 [==============================] - 158s 2s/step - loss: -0.8663 - dice_coef: 0.8663 - val_loss: -0.6661 - val_dice_coef: 0.6661\n",
      "Epoch 93/100\n",
      "84/84 [==============================] - 157s 2s/step - loss: -0.8675 - dice_coef: 0.8675 - val_loss: -0.6930 - val_dice_coef: 0.6930\n",
      "Epoch 94/100\n",
      "84/84 [==============================] - 157s 2s/step - loss: -0.8713 - dice_coef: 0.8713 - val_loss: -0.6617 - val_dice_coef: 0.6617\n",
      "Epoch 95/100\n",
      "84/84 [==============================] - 156s 2s/step - loss: -0.8700 - dice_coef: 0.8700 - val_loss: -0.6594 - val_dice_coef: 0.6594\n",
      "Epoch 96/100\n",
      "84/84 [==============================] - 156s 2s/step - loss: -0.8723 - dice_coef: 0.8723 - val_loss: -0.6533 - val_dice_coef: 0.6533\n",
      "Epoch 97/100\n",
      "84/84 [==============================] - 155s 2s/step - loss: -0.8724 - dice_coef: 0.8724 - val_loss: -0.7030 - val_dice_coef: 0.7030\n",
      "Epoch 98/100\n",
      "84/84 [==============================] - 157s 2s/step - loss: -0.8733 - dice_coef: 0.8733 - val_loss: -0.6722 - val_dice_coef: 0.6722\n",
      "Epoch 99/100\n",
      "84/84 [==============================] - 156s 2s/step - loss: -0.8735 - dice_coef: 0.8735 - val_loss: -0.6600 - val_dice_coef: 0.6600\n",
      "Epoch 100/100\n",
      "84/84 [==============================] - 158s 2s/step - loss: -0.8765 - dice_coef: 0.8765 - val_loss: -0.6940 - val_dice_coef: 0.6940\n"
     ]
    }
   ],
   "source": [
    "model = get_unet()\n",
    "with K.tf.device('/gpu:0'):\n",
    "    hist = model.fit(img_train, label_train, batch_size=3, epochs=100,validation_data=(img_val,label_val),shuffle=True )\n",
    "\n",
    "#model.summary()"
   ]
  },
  {
   "cell_type": "code",
   "execution_count": 46,
   "metadata": {},
   "outputs": [],
   "source": [
    "## model 3D Unet\n",
    "def get_unet():\n",
    "    \n",
    "    n = 8\n",
    "    \n",
    "    inputs = Input((None, None,  None, 1))\n",
    "    conv1 = Conv3D(n, (3, 3, 3), padding='same')(inputs)\n",
    "    conv1 = BatchNormalization(axis=4)(conv1)\n",
    "    conv1 = Activation('relu')(conv1)\n",
    "    conv1 = Conv3D(n, (3, 3, 3), padding='same')(conv1)\n",
    "    conv1 = BatchNormalization(axis=4)(conv1)\n",
    "    conv1 = Activation('relu')(conv1)\n",
    "    conv1 = Conv3D(n, (3, 3, 3), padding='same')(conv1)\n",
    "    conv1 = BatchNormalization(axis=4)(conv1)\n",
    "    conv1 = Activation('relu')(conv1)\n",
    "    pool1 = Conv3D(n, (3, 3, 3), padding='same', strides = (2 ,2, 2))(conv1)\n",
    "    pool1 = BatchNormalization(axis=4)(pool1)\n",
    "    pool1 = Activation('relu')(pool1)\n",
    "#    pool1 = Dropout(0.25)(pool1)\n",
    "#    pool1 = MaxPooling3D(pool_size=(2, 2, 1))(conv1)\n",
    "\n",
    "    conv22 = concatenate([pool1, MaxPooling3D(pool_size=(2, 2, 2))(inputs)], axis=4)\n",
    "    conv2 = Conv3D(2*n, (3, 3, 3), padding='same')(conv22)\n",
    "    conv2 = BatchNormalization(axis=4)(conv2)\n",
    "    conv2 = Activation('relu')(conv2)\n",
    "    conv2 = Conv3D(2*n, (3, 3, 3), padding='same')(conv2)\n",
    "    conv2 = BatchNormalization(axis=4)(conv2)\n",
    "    conv2 = Activation('relu')(conv2)\n",
    "    conv2 = Conv3D(2*n, (3, 3, 3), padding='same')(conv2)\n",
    "    conv2 = BatchNormalization(axis=4)(conv2)\n",
    "    conv2 = Activation('relu')(conv2)                           \n",
    "    pool2 = Conv3D(2*n, (3, 3, 3), padding='same', strides = (2, 2, 2))(conv2)\n",
    "    pool2 = BatchNormalization(axis=4)(pool2)\n",
    "    pool2 = Activation('relu')(pool2)\n",
    "#    pool2 = Dropout(0.25)(pool2)\n",
    "#    pool2 = MaxPooling3D(pool_size=(2, 2, 1))(conv2)\n",
    "\n",
    "    conv33 = concatenate([pool2, MaxPooling3D(pool_size=(2, 2, 2))(conv22)], axis=4)\n",
    "    conv3 = Conv3D(4*n, (3, 3, 3), padding='same')(conv33)    \n",
    "    conv3 = BatchNormalization(axis=4)(conv3)\n",
    "    conv3 = Activation('relu')(conv3)\n",
    "    conv3 = Conv3D(4*n, (3, 3, 3), padding='same')(conv3)    \n",
    "    conv3 = BatchNormalization(axis=4)(conv3)\n",
    "    conv3 = Activation('relu')(conv3)\n",
    "    conv3 = Conv3D(4*n, (3, 3, 3), padding='same')(conv3)\n",
    "    conv3 = BatchNormalization(axis=4)(conv3)\n",
    "    conv3 = Activation('relu')(conv3)\n",
    "#    conv3 = Conv3D(4*n, (3, 3, 3), padding='same')(conv3)\n",
    "#    conv3 = BatchNormalization(axis=4)(conv3)\n",
    "#    conv3 = Activation('relu')(conv3)\n",
    "    pool3 = Conv3D(2*n, (3, 3, 3), padding='same', strides = (2, 2, 2))(conv3)\n",
    "    pool3 = BatchNormalization(axis=4)(pool3)\n",
    "    pool3 = Activation('relu')(pool3)\n",
    "    \n",
    "    \n",
    "    conv44 = concatenate([pool3, MaxPooling3D(pool_size=(2, 2, 2))(conv33)], axis=4)\n",
    "    conv4 = Conv3D(8*n, (3, 3, 3), padding='same')(conv44)    \n",
    "    conv4 = BatchNormalization(axis=4)(conv4)\n",
    "    conv4 = Activation('relu')(conv4)\n",
    "    conv4 = Conv3D(8*n, (3, 3, 3), padding='same')(conv4)    \n",
    "    conv4 = BatchNormalization(axis=4)(conv4)\n",
    "    conv4 = Activation('relu')(conv4)\n",
    "    conv4 = Conv3D(8*n, (3, 3, 3), padding='same')(concatenate([conv44, conv4], axis=4))\n",
    "    conv4 = BatchNormalization(axis=4)(conv4)\n",
    "    conv4 = Activation('relu')(conv4)\n",
    "    conv4 = Conv3D(8*n, (3, 3, 3), padding='same')(conv4)    \n",
    "    conv4 = BatchNormalization(axis=4)(conv4)\n",
    "    conv4 = Activation('relu')(conv4)\n",
    "#    conv3 = Dropout(0.5)(conv3)\n",
    "#    pool3 = MaxPooling3D(pool_size=(2, 2, 1))(conv3)\n",
    "\n",
    "#    conv4 = Conv3D(128, (3, 3, 3), activation='relu', padding='same')(pool3)\n",
    "#    conv4 = BatchNormalization(axis=1)(conv4)\n",
    "#    conv4 = Activation('relu')(conv4)\n",
    "#    conv4 = Conv3D(128, (3, 3, 3), activation='relu', padding='same')(conv4)\n",
    "#    conv4 = BatchNormalization(axis=1)(conv4)\n",
    "\n",
    "    up5 = concatenate([Conv3DTranspose(2*n, (3, 3, 3), strides=(2, 2, 2), padding='same')(conv4), conv3], axis=4)\n",
    "    conv5 = Conv3D(4*n, (3, 3, 3), padding='same')(up5)\n",
    "    conv5 = BatchNormalization(axis=4)(conv5)\n",
    "    conv5 = Activation('relu')(conv5)\n",
    "    conv5 = Conv3D(4*n, (3, 3, 3), padding='same')(conv5)\n",
    "    conv5 = BatchNormalization(axis=4)(conv5)\n",
    "    conv5 = Activation('relu')(conv5)\n",
    "    conv5 = Conv3D(4*n, (3, 3, 3), padding='same')(concatenate([up5, conv5], axis=4))\n",
    "    conv5 = BatchNormalization(axis=4)(conv5)\n",
    "    conv5 = Activation('relu')(conv5)\n",
    "    \n",
    "    up6 = concatenate([Conv3DTranspose(n, (3, 3, 3), strides=(2, 2, 2), padding='same')(conv5), conv2], axis=4)\n",
    "    conv6 = Conv3D(2*n, (3, 3, 3), padding='same')(up6)\n",
    "    conv6 = BatchNormalization(axis=4)(conv6)\n",
    "    conv6 = Activation('relu')(conv6)\n",
    "    conv6 = Conv3D(2*n, (3, 3, 3), padding='same')(conv6)\n",
    "    conv6 = BatchNormalization(axis=4)(conv6)\n",
    "    conv6 = Activation('relu')(conv6)\n",
    "    conv6 = Conv3D(2*n, (3, 3, 3), padding='same')(concatenate([up6, conv6], axis=4))\n",
    "    conv6 = BatchNormalization(axis=4)(conv6)\n",
    "    conv6 = Activation('relu')(conv6)\n",
    "\n",
    "    up7 = concatenate([Conv3DTranspose(n, (3, 3, 3), strides=(2, 2, 2), padding='same')(conv6), conv1], axis=4)\n",
    "    conv7 = Conv3D(n, (3, 3, 3), padding='same')(up7)\n",
    "    conv7 = BatchNormalization(axis=4)(conv7)\n",
    "    conv7 = Activation('relu')(conv7)\n",
    "    conv7 = Conv3D(n, (3, 3, 3), padding='same')(conv7)\n",
    "    conv7 = BatchNormalization(axis=4)(conv7)\n",
    "    conv7 = Activation('relu')(conv7)\n",
    "    conv7 = Conv3D(n, (3, 3, 3), padding='same')(concatenate([up7, conv7], axis=4))\n",
    "    conv7 = BatchNormalization(axis=4)(conv7)\n",
    "    conv7 = Activation('relu')(conv7)\n",
    " #   up6 = concatenate([Conv3DTranspose(16, (2, 2, 1), strides=(2, 2, 1), padding='same')(conv5), conv1], axis=4)\n",
    " #   conv6 = Conv3D(16, (3, 3, 3), activation='relu', padding='same')(up6)\n",
    " #   conv6 = BatchNormalization(axis=1)(conv6)\n",
    " #   conv6 = Activation('relu')(conv6)\n",
    " #   conv6 = Conv3D(16, (3, 3, 3), activation='relu', padding='same')(conv6)\n",
    " #   conv6 = BatchNormalization(axis=1)(conv6)\n",
    " #   conv6 = Activation('relu')(conv6)\n",
    "    \n",
    "    conv8 = Conv3D(1, (1, 1, 1), activation='sigmoid')(conv7)\n",
    "    \n",
    "    model = Model(inputs=[inputs], outputs=[conv8])\n",
    "    \n",
    "    learning_rate = 1e-3\n",
    "    decay_rate = learning_rate/300\n",
    "    \n",
    "    model.compile(optimizer=Adam(lr=learning_rate, decay=decay_rate), loss=dice_coef_loss, metrics=[dice_coef])\n",
    "#   model.compile(optimizer=Adam(lr=1e-5), loss=losses.mean_squared_error, metrics=[dice_coef])\n",
    "\n",
    "    return model\n",
    "\n",
    "\n",
    "\n",
    "## loss function\n",
    "smooth = 1e-7\n",
    "\n",
    "def dice_coef(y_true, y_pred):\n",
    "    y_true_f = K.flatten(y_true)\n",
    "    y_pred_f = K.flatten(y_pred)\n",
    "    intersection = K.sum(y_true_f * y_pred_f)\n",
    "    return (2. * intersection + smooth * 0.01) / (K.sum(y_true_f) + K.sum(y_pred_f) + smooth)\n",
    "\n",
    "def dice_coef_loss(y_true, y_pred):\n",
    "    return -dice_coef(y_true, y_pred)"
   ]
  },
  {
   "cell_type": "code",
   "execution_count": 48,
   "metadata": {},
   "outputs": [],
   "source": [
    "model.save_weights('/storage/filament/result/cluster_3d/40Mpc/prediction/aug_xyz_shuffle/model.h5')"
   ]
  },
  {
   "cell_type": "code",
   "execution_count": 54,
   "metadata": {},
   "outputs": [
    {
     "data": {
      "image/png": "[encoded data removed]",
      "text/plain": [
       "<Figure size 720x720 with 1 Axes>"
      ]
     },
     "metadata": {
      "needs_background": "light"
     },
     "output_type": "display_data"
    }
   ],
   "source": [
    "plt.figure(figsize=[10,10])\n",
    "plt.plot(np.abs(hist.history['dice_coef']),label='dice_coef')\n",
    "plt.plot(np.abs(hist.history['val_dice_coef']),label='val_dice_coef')\n",
    "plt.legend(fontsize=20)\n",
    "plt.xlabel('Epochs',fontsize=20)\n",
    "plt.yticks(fontsize=15)\n",
    "plt.xticks(fontsize=15)\n",
    "#plt.ylabel('',fontsize=20)\n",
    "\n",
    "\n",
    "plt.savefig('/storage/filament/result/cluster_3d/40Mpc/prediction/aug_xyz_shuffle/fig.png')"
   ]
  },
  {
   "cell_type": "code",
   "execution_count": 10,
   "metadata": {},
   "outputs": [],
   "source": [
    "test = model.predict(img_val)\n",
    "#plt.contourf(test)"
   ]
  },
  {
   "cell_type": "code",
   "execution_count": 52,
   "metadata": {},
   "outputs": [
    {
     "data": {
      "text/plain": [
       "<Figure size 720x720 with 0 Axes>"
      ]
     },
     "metadata": {},
     "output_type": "display_data"
    },
    {
     "data": {
      "image/png": "[encoded data removed]",
      "text/plain": [
       "<Figure size 432x288 with 1 Axes>"
      ]
     },
     "metadata": {
      "needs_background": "light"
     },
     "output_type": "display_data"
    },
    {
     "data": {
      "image/png": "[encoded data removed]",
      "text/plain": [
       "<Figure size 1152x576 with 2 Axes>"
      ]
     },
     "metadata": {
      "needs_background": "light"
     },
     "output_type": "display_data"
    }
   ],
   "source": [
    "i = 12\n",
    "j = 23\n",
    "plt.figure(figsize=[10,10])\n",
    "plt.show()\n",
    "plt.contourf(img_val[i,j,:,:,0])\n",
    "plt.figure(figsize=[16,8])\n",
    "plt.subplot(121)\n",
    "plt.contourf(test[i,j,:,:,0])\n",
    "plt.gray()\n",
    "plt.subplot(122)\n",
    "plt.contourf(label_val[i,j,:,:,0])\n",
    "plt.gray()"
   ]
  },
  {
   "cell_type": "code",
   "execution_count": null,
   "metadata": {},
   "outputs": [],
   "source": [
    "i =1\n",
    "j = 0\n",
    "plt.contourf(test[i,j,:,:,0])"
   ]
  },
  {
   "cell_type": "code",
   "execution_count": 53,
   "metadata": {},
   "outputs": [
    {
     "data": {
      "text/plain": [
       "(16, 24, 96, 96, 1)"
      ]
     },
     "execution_count": 53,
     "metadata": {},
     "output_type": "execute_result"
    }
   ],
   "source": [
    "test.shape"
   ]
  },
  {
   "cell_type": "code",
   "execution_count": 112,
   "metadata": {},
   "outputs": [
    {
     "data": {
      "text/plain": [
       "['box_num box01/ sub_box subbox08 peak_num 0 aug_dir 0',\n",
       " 'box_num box01/ sub_box subbox08 peak_num 0 aug_dir 0with z',\n",
       " 'box_num box01/ sub_box subbox08 peak_num 0 aug_dir 90',\n",
       " 'box_num box01/ sub_box subbox08 peak_num 0 aug_dir 90with z',\n",
       " 'box_num box01/ sub_box subbox08 peak_num 0 aug_dir 180',\n",
       " 'box_num box01/ sub_box subbox08 peak_num 0 aug_dir 180with z',\n",
       " 'box_num box01/ sub_box subbox08 peak_num 0 aug_dir 270',\n",
       " 'box_num box01/ sub_box subbox08 peak_num 0 aug_dir 270with z',\n",
       " 'box_num box01/ sub_box subbox03 peak_num 0 aug_dir 0',\n",
       " 'box_num box01/ sub_box subbox03 peak_num 0 aug_dir 0with z',\n",
       " 'box_num box01/ sub_box subbox03 peak_num 0 aug_dir 90',\n",
       " 'box_num box01/ sub_box subbox03 peak_num 0 aug_dir 90with z',\n",
       " 'box_num box01/ sub_box subbox03 peak_num 0 aug_dir 180',\n",
       " 'box_num box01/ sub_box subbox03 peak_num 0 aug_dir 180with z',\n",
       " 'box_num box01/ sub_box subbox03 peak_num 0 aug_dir 270',\n",
       " 'box_num box01/ sub_box subbox03 peak_num 0 aug_dir 270with z',\n",
       " 'box_num box01/ sub_box subbox01 peak_num 0 aug_dir 0',\n",
       " 'box_num box01/ sub_box subbox01 peak_num 0 aug_dir 0with z',\n",
       " 'box_num box01/ sub_box subbox01 peak_num 0 aug_dir 90',\n",
       " 'box_num box01/ sub_box subbox01 peak_num 0 aug_dir 90with z',\n",
       " 'box_num box01/ sub_box subbox01 peak_num 0 aug_dir 180',\n",
       " 'box_num box01/ sub_box subbox01 peak_num 0 aug_dir 180with z',\n",
       " 'box_num box01/ sub_box subbox01 peak_num 0 aug_dir 270',\n",
       " 'box_num box01/ sub_box subbox01 peak_num 0 aug_dir 270with z']"
      ]
     },
     "execution_count": 112,
     "metadata": {},
     "output_type": "execute_result"
    }
   ],
   "source": [
    "data_list"
   ]
  },
  {
   "cell_type": "code",
   "execution_count": 129,
   "metadata": {},
   "outputs": [
    {
     "data": {
      "text/plain": [
       "<matplotlib.contour.QuadContourSet at 0x7f6b72e49518>"
      ]
     },
     "execution_count": 129,
     "metadata": {},
     "output_type": "execute_result"
    },
    {
     "data": {
      "image/png": "[encoded data removed]",
      "text/plain": [
       "<Figure size 432x288 with 1 Axes>"
      ]
     },
     "metadata": {
      "needs_background": "light"
     },
     "output_type": "display_data"
    }
   ],
   "source": [
    "#img_val = img_file[:16,:,:,:,:]\n",
    "plt.contourf(img_val[4,0,:,:,0])"
   ]
  },
  {
   "cell_type": "code",
   "execution_count": 81,
   "metadata": {},
   "outputs": [
    {
     "data": {
      "text/plain": [
       "(16, 24, 96, 96, 1)"
      ]
     },
     "execution_count": 81,
     "metadata": {},
     "output_type": "execute_result"
    }
   ],
   "source": [
    "img_val.shape"
   ]
  },
  {
   "cell_type": "code",
   "execution_count": 124,
   "metadata": {},
   "outputs": [
    {
     "data": {
      "text/plain": [
       "<matplotlib.contour.QuadContourSet at 0x7f6b730e9ef0>"
      ]
     },
     "execution_count": 124,
     "metadata": {},
     "output_type": "execute_result"
    },
    {
     "data": {
      "image/png": "[encoded data removed]",
      "text/plain": [
       "<Figure size 432x288 with 1 Axes>"
      ]
     },
     "metadata": {
      "needs_background": "light"
     },
     "output_type": "display_data"
    }
   ],
   "source": [
    "plt.contourf(img_val[0,0,:,:,0])"
   ]
  },
  {
   "cell_type": "code",
   "execution_count": 55,
   "metadata": {},
   "outputs": [
    {
     "name": "stderr",
     "output_type": "stream",
     "text": [
      "/home/ha/anaconda3/envs/research_filament/lib/python3.6/site-packages/ipykernel_launcher.py:4: RuntimeWarning: More than 20 figures have been opened. Figures created through the pyplot interface (`matplotlib.pyplot.figure`) are retained until explicitly closed and may consume too much memory. (To control this warning, see the rcParam `figure.max_open_warning`).\n",
      "  after removing the cwd from sys.path.\n"
     ]
    },
    {
     "data": {
      "text/plain": [
       "<Figure size 2160x2160 with 0 Axes>"
      ]
     },
     "metadata": {},
     "output_type": "display_data"
    },
    {
     "data": {
      "text/plain": [
       "<Figure size 2160x2160 with 0 Axes>"
      ]
     },
     "metadata": {},
     "output_type": "display_data"
    },
    {
     "data": {
      "text/plain": [
       "<Figure size 2160x2160 with 0 Axes>"
      ]
     },
     "metadata": {},
     "output_type": "display_data"
    },
    {
     "data": {
      "text/plain": [
       "<Figure size 2160x2160 with 0 Axes>"
      ]
     },
     "metadata": {},
     "output_type": "display_data"
    },
    {
     "data": {
      "text/plain": [
       "<Figure size 2160x2160 with 0 Axes>"
      ]
     },
     "metadata": {},
     "output_type": "display_data"
    },
    {
     "data": {
      "text/plain": [
       "<Figure size 2160x2160 with 0 Axes>"
      ]
     },
     "metadata": {},
     "output_type": "display_data"
    },
    {
     "data": {
      "text/plain": [
       "<Figure size 2160x2160 with 0 Axes>"
      ]
     },
     "metadata": {},
     "output_type": "display_data"
    },
    {
     "data": {
      "text/plain": [
       "<Figure size 2160x2160 with 0 Axes>"
      ]
     },
     "metadata": {},
     "output_type": "display_data"
    },
    {
     "data": {
      "text/plain": [
       "<Figure size 2160x2160 with 0 Axes>"
      ]
     },
     "metadata": {},
     "output_type": "display_data"
    },
    {
     "data": {
      "text/plain": [
       "<Figure size 2160x2160 with 0 Axes>"
      ]
     },
     "metadata": {},
     "output_type": "display_data"
    },
    {
     "data": {
      "text/plain": [
       "<Figure size 2160x2160 with 0 Axes>"
      ]
     },
     "metadata": {},
     "output_type": "display_data"
    },
    {
     "data": {
      "text/plain": [
       "<Figure size 2160x2160 with 0 Axes>"
      ]
     },
     "metadata": {},
     "output_type": "display_data"
    },
    {
     "data": {
      "text/plain": [
       "<Figure size 2160x2160 with 0 Axes>"
      ]
     },
     "metadata": {},
     "output_type": "display_data"
    },
    {
     "data": {
      "text/plain": [
       "<Figure size 2160x2160 with 0 Axes>"
      ]
     },
     "metadata": {},
     "output_type": "display_data"
    },
    {
     "data": {
      "text/plain": [
       "<Figure size 2160x2160 with 0 Axes>"
      ]
     },
     "metadata": {},
     "output_type": "display_data"
    },
    {
     "data": {
      "text/plain": [
       "<Figure size 2160x2160 with 0 Axes>"
      ]
     },
     "metadata": {},
     "output_type": "display_data"
    },
    {
     "data": {
      "text/plain": [
       "<Figure size 2160x2160 with 0 Axes>"
      ]
     },
     "metadata": {},
     "output_type": "display_data"
    },
    {
     "data": {
      "text/plain": [
       "<Figure size 2160x2160 with 0 Axes>"
      ]
     },
     "metadata": {},
     "output_type": "display_data"
    },
    {
     "data": {
      "text/plain": [
       "<Figure size 2160x2160 with 0 Axes>"
      ]
     },
     "metadata": {},
     "output_type": "display_data"
    },
    {
     "data": {
      "text/plain": [
       "<Figure size 2160x2160 with 0 Axes>"
      ]
     },
     "metadata": {},
     "output_type": "display_data"
    },
    {
     "data": {
      "text/plain": [
       "<Figure size 2160x2160 with 0 Axes>"
      ]
     },
     "metadata": {},
     "output_type": "display_data"
    },
    {
     "data": {
      "text/plain": [
       "<Figure size 2160x2160 with 0 Axes>"
      ]
     },
     "metadata": {},
     "output_type": "display_data"
    },
    {
     "data": {
      "text/plain": [
       "<Figure size 2160x2160 with 0 Axes>"
      ]
     },
     "metadata": {},
     "output_type": "display_data"
    },
    {
     "data": {
      "text/plain": [
       "<Figure size 2160x2160 with 0 Axes>"
      ]
     },
     "metadata": {},
     "output_type": "display_data"
    },
    {
     "data": {
      "text/plain": [
       "<Figure size 2160x2160 with 0 Axes>"
      ]
     },
     "metadata": {},
     "output_type": "display_data"
    },
    {
     "data": {
      "text/plain": [
       "<Figure size 2160x2160 with 0 Axes>"
      ]
     },
     "metadata": {},
     "output_type": "display_data"
    },
    {
     "data": {
      "text/plain": [
       "<Figure size 2160x2160 with 0 Axes>"
      ]
     },
     "metadata": {},
     "output_type": "display_data"
    },
    {
     "data": {
      "text/plain": [
       "<Figure size 2160x2160 with 0 Axes>"
      ]
     },
     "metadata": {},
     "output_type": "display_data"
    },
    {
     "data": {
      "text/plain": [
       "<Figure size 2160x2160 with 0 Axes>"
      ]
     },
     "metadata": {},
     "output_type": "display_data"
    },
    {
     "data": {
      "text/plain": [
       "<Figure size 2160x2160 with 0 Axes>"
      ]
     },
     "metadata": {},
     "output_type": "display_data"
    },
    {
     "data": {
      "text/plain": [
       "<Figure size 2160x2160 with 0 Axes>"
      ]
     },
     "metadata": {},
     "output_type": "display_data"
    },
    {
     "data": {
      "text/plain": [
       "<Figure size 2160x2160 with 0 Axes>"
      ]
     },
     "metadata": {},
     "output_type": "display_data"
    },
    {
     "data": {
      "text/plain": [
       "<Figure size 2160x2160 with 0 Axes>"
      ]
     },
     "metadata": {},
     "output_type": "display_data"
    },
    {
     "data": {
      "text/plain": [
       "<Figure size 2160x2160 with 0 Axes>"
      ]
     },
     "metadata": {},
     "output_type": "display_data"
    },
    {
     "data": {
      "text/plain": [
       "<Figure size 2160x2160 with 0 Axes>"
      ]
     },
     "metadata": {},
     "output_type": "display_data"
    },
    {
     "data": {
      "text/plain": [
       "<Figure size 2160x2160 with 0 Axes>"
      ]
     },
     "metadata": {},
     "output_type": "display_data"
    },
    {
     "data": {
      "text/plain": [
       "<Figure size 2160x2160 with 0 Axes>"
      ]
     },
     "metadata": {},
     "output_type": "display_data"
    },
    {
     "data": {
      "text/plain": [
       "<Figure size 2160x2160 with 0 Axes>"
      ]
     },
     "metadata": {},
     "output_type": "display_data"
    },
    {
     "data": {
      "text/plain": [
       "<Figure size 2160x2160 with 0 Axes>"
      ]
     },
     "metadata": {},
     "output_type": "display_data"
    },
    {
     "data": {
      "text/plain": [
       "<Figure size 2160x2160 with 0 Axes>"
      ]
     },
     "metadata": {},
     "output_type": "display_data"
    },
    {
     "data": {
      "text/plain": [
       "<Figure size 2160x2160 with 0 Axes>"
      ]
     },
     "metadata": {},
     "output_type": "display_data"
    },
    {
     "data": {
      "text/plain": [
       "<Figure size 2160x2160 with 0 Axes>"
      ]
     },
     "metadata": {},
     "output_type": "display_data"
    },
    {
     "data": {
      "text/plain": [
       "<Figure size 2160x2160 with 0 Axes>"
      ]
     },
     "metadata": {},
     "output_type": "display_data"
    },
    {
     "data": {
      "text/plain": [
       "<Figure size 2160x2160 with 0 Axes>"
      ]
     },
     "metadata": {},
     "output_type": "display_data"
    },
    {
     "data": {
      "text/plain": [
       "<Figure size 2160x2160 with 0 Axes>"
      ]
     },
     "metadata": {},
     "output_type": "display_data"
    },
    {
     "data": {
      "text/plain": [
       "<Figure size 2160x2160 with 0 Axes>"
      ]
     },
     "metadata": {},
     "output_type": "display_data"
    },
    {
     "data": {
      "text/plain": [
       "<Figure size 2160x2160 with 0 Axes>"
      ]
     },
     "metadata": {},
     "output_type": "display_data"
    },
    {
     "data": {
      "text/plain": [
       "<Figure size 2160x2160 with 0 Axes>"
      ]
     },
     "metadata": {},
     "output_type": "display_data"
    },
    {
     "data": {
      "text/plain": [
       "<Figure size 2160x2160 with 0 Axes>"
      ]
     },
     "metadata": {},
     "output_type": "display_data"
    },
    {
     "data": {
      "text/plain": [
       "<Figure size 2160x2160 with 0 Axes>"
      ]
     },
     "metadata": {},
     "output_type": "display_data"
    },
    {
     "data": {
      "text/plain": [
       "<Figure size 2160x2160 with 0 Axes>"
      ]
     },
     "metadata": {},
     "output_type": "display_data"
    },
    {
     "data": {
      "text/plain": [
       "<Figure size 2160x2160 with 0 Axes>"
      ]
     },
     "metadata": {},
     "output_type": "display_data"
    },
    {
     "data": {
      "text/plain": [
       "<Figure size 2160x2160 with 0 Axes>"
      ]
     },
     "metadata": {},
     "output_type": "display_data"
    },
    {
     "data": {
      "text/plain": [
       "<Figure size 2160x2160 with 0 Axes>"
      ]
     },
     "metadata": {},
     "output_type": "display_data"
    },
    {
     "data": {
      "text/plain": [
       "<Figure size 2160x2160 with 0 Axes>"
      ]
     },
     "metadata": {},
     "output_type": "display_data"
    },
    {
     "data": {
      "text/plain": [
       "<Figure size 2160x2160 with 0 Axes>"
      ]
     },
     "metadata": {},
     "output_type": "display_data"
    },
    {
     "data": {
      "text/plain": [
       "<Figure size 2160x2160 with 0 Axes>"
      ]
     },
     "metadata": {},
     "output_type": "display_data"
    },
    {
     "data": {
      "text/plain": [
       "<Figure size 2160x2160 with 0 Axes>"
      ]
     },
     "metadata": {},
     "output_type": "display_data"
    },
    {
     "data": {
      "text/plain": [
       "<Figure size 2160x2160 with 0 Axes>"
      ]
     },
     "metadata": {},
     "output_type": "display_data"
    },
    {
     "data": {
      "text/plain": [
       "<Figure size 2160x2160 with 0 Axes>"
      ]
     },
     "metadata": {},
     "output_type": "display_data"
    },
    {
     "data": {
      "text/plain": [
       "<Figure size 2160x2160 with 0 Axes>"
      ]
     },
     "metadata": {},
     "output_type": "display_data"
    },
    {
     "data": {
      "text/plain": [
       "<Figure size 2160x2160 with 0 Axes>"
      ]
     },
     "metadata": {},
     "output_type": "display_data"
    },
    {
     "data": {
      "text/plain": [
       "<Figure size 2160x2160 with 0 Axes>"
      ]
     },
     "metadata": {},
     "output_type": "display_data"
    },
    {
     "data": {
      "text/plain": [
       "<Figure size 2160x2160 with 0 Axes>"
      ]
     },
     "metadata": {},
     "output_type": "display_data"
    },
    {
     "data": {
      "text/plain": [
       "<Figure size 2160x2160 with 0 Axes>"
      ]
     },
     "metadata": {},
     "output_type": "display_data"
    },
    {
     "data": {
      "text/plain": [
       "<Figure size 2160x2160 with 0 Axes>"
      ]
     },
     "metadata": {},
     "output_type": "display_data"
    },
    {
     "data": {
      "text/plain": [
       "<Figure size 2160x2160 with 0 Axes>"
      ]
     },
     "metadata": {},
     "output_type": "display_data"
    },
    {
     "data": {
      "text/plain": [
       "<Figure size 2160x2160 with 0 Axes>"
      ]
     },
     "metadata": {},
     "output_type": "display_data"
    },
    {
     "data": {
      "text/plain": [
       "<Figure size 2160x2160 with 0 Axes>"
      ]
     },
     "metadata": {},
     "output_type": "display_data"
    },
    {
     "data": {
      "text/plain": [
       "<Figure size 2160x2160 with 0 Axes>"
      ]
     },
     "metadata": {},
     "output_type": "display_data"
    },
    {
     "data": {
      "text/plain": [
       "<Figure size 2160x2160 with 0 Axes>"
      ]
     },
     "metadata": {},
     "output_type": "display_data"
    },
    {
     "data": {
      "text/plain": [
       "<Figure size 2160x2160 with 0 Axes>"
      ]
     },
     "metadata": {},
     "output_type": "display_data"
    },
    {
     "data": {
      "text/plain": [
       "<Figure size 2160x2160 with 0 Axes>"
      ]
     },
     "metadata": {},
     "output_type": "display_data"
    },
    {
     "data": {
      "text/plain": [
       "<Figure size 2160x2160 with 0 Axes>"
      ]
     },
     "metadata": {},
     "output_type": "display_data"
    },
    {
     "data": {
      "text/plain": [
       "<Figure size 2160x2160 with 0 Axes>"
      ]
     },
     "metadata": {},
     "output_type": "display_data"
    },
    {
     "data": {
      "text/plain": [
       "<Figure size 2160x2160 with 0 Axes>"
      ]
     },
     "metadata": {},
     "output_type": "display_data"
    },
    {
     "data": {
      "text/plain": [
       "<Figure size 2160x2160 with 0 Axes>"
      ]
     },
     "metadata": {},
     "output_type": "display_data"
    },
    {
     "data": {
      "text/plain": [
       "<Figure size 2160x2160 with 0 Axes>"
      ]
     },
     "metadata": {},
     "output_type": "display_data"
    },
    {
     "data": {
      "text/plain": [
       "<Figure size 2160x2160 with 0 Axes>"
      ]
     },
     "metadata": {},
     "output_type": "display_data"
    },
    {
     "data": {
      "text/plain": [
       "<Figure size 2160x2160 with 0 Axes>"
      ]
     },
     "metadata": {},
     "output_type": "display_data"
    },
    {
     "data": {
      "text/plain": [
       "<Figure size 2160x2160 with 0 Axes>"
      ]
     },
     "metadata": {},
     "output_type": "display_data"
    },
    {
     "data": {
      "text/plain": [
       "<Figure size 2160x2160 with 0 Axes>"
      ]
     },
     "metadata": {},
     "output_type": "display_data"
    },
    {
     "data": {
      "text/plain": [
       "<Figure size 2160x2160 with 0 Axes>"
      ]
     },
     "metadata": {},
     "output_type": "display_data"
    },
    {
     "data": {
      "text/plain": [
       "<Figure size 2160x2160 with 0 Axes>"
      ]
     },
     "metadata": {},
     "output_type": "display_data"
    },
    {
     "data": {
      "text/plain": [
       "<Figure size 2160x2160 with 0 Axes>"
      ]
     },
     "metadata": {},
     "output_type": "display_data"
    },
    {
     "data": {
      "text/plain": [
       "<Figure size 2160x2160 with 0 Axes>"
      ]
     },
     "metadata": {},
     "output_type": "display_data"
    },
    {
     "data": {
      "text/plain": [
       "<Figure size 2160x2160 with 0 Axes>"
      ]
     },
     "metadata": {},
     "output_type": "display_data"
    },
    {
     "data": {
      "text/plain": [
       "<Figure size 2160x2160 with 0 Axes>"
      ]
     },
     "metadata": {},
     "output_type": "display_data"
    },
    {
     "data": {
      "text/plain": [
       "<Figure size 2160x2160 with 0 Axes>"
      ]
     },
     "metadata": {},
     "output_type": "display_data"
    },
    {
     "data": {
      "text/plain": [
       "<Figure size 2160x2160 with 0 Axes>"
      ]
     },
     "metadata": {},
     "output_type": "display_data"
    },
    {
     "data": {
      "text/plain": [
       "<Figure size 2160x2160 with 0 Axes>"
      ]
     },
     "metadata": {},
     "output_type": "display_data"
    },
    {
     "data": {
      "text/plain": [
       "<Figure size 2160x2160 with 0 Axes>"
      ]
     },
     "metadata": {},
     "output_type": "display_data"
    },
    {
     "data": {
      "text/plain": [
       "<Figure size 2160x2160 with 0 Axes>"
      ]
     },
     "metadata": {},
     "output_type": "display_data"
    },
    {
     "data": {
      "text/plain": [
       "<Figure size 2160x2160 with 0 Axes>"
      ]
     },
     "metadata": {},
     "output_type": "display_data"
    },
    {
     "data": {
      "text/plain": [
       "<Figure size 2160x2160 with 0 Axes>"
      ]
     },
     "metadata": {},
     "output_type": "display_data"
    },
    {
     "data": {
      "text/plain": [
       "<Figure size 2160x2160 with 0 Axes>"
      ]
     },
     "metadata": {},
     "output_type": "display_data"
    },
    {
     "data": {
      "text/plain": [
       "<Figure size 2160x2160 with 0 Axes>"
      ]
     },
     "metadata": {},
     "output_type": "display_data"
    },
    {
     "data": {
      "text/plain": [
       "<Figure size 2160x2160 with 0 Axes>"
      ]
     },
     "metadata": {},
     "output_type": "display_data"
    },
    {
     "data": {
      "text/plain": [
       "<Figure size 2160x2160 with 0 Axes>"
      ]
     },
     "metadata": {},
     "output_type": "display_data"
    },
    {
     "data": {
      "text/plain": [
       "<Figure size 2160x2160 with 0 Axes>"
      ]
     },
     "metadata": {},
     "output_type": "display_data"
    },
    {
     "data": {
      "text/plain": [
       "<Figure size 2160x2160 with 0 Axes>"
      ]
     },
     "metadata": {},
     "output_type": "display_data"
    },
    {
     "data": {
      "text/plain": [
       "<Figure size 2160x2160 with 0 Axes>"
      ]
     },
     "metadata": {},
     "output_type": "display_data"
    },
    {
     "data": {
      "text/plain": [
       "<Figure size 2160x2160 with 0 Axes>"
      ]
     },
     "metadata": {},
     "output_type": "display_data"
    },
    {
     "data": {
      "text/plain": [
       "<Figure size 2160x2160 with 0 Axes>"
      ]
     },
     "metadata": {},
     "output_type": "display_data"
    },
    {
     "data": {
      "text/plain": [
       "<Figure size 2160x2160 with 0 Axes>"
      ]
     },
     "metadata": {},
     "output_type": "display_data"
    },
    {
     "data": {
      "text/plain": [
       "<Figure size 2160x2160 with 0 Axes>"
      ]
     },
     "metadata": {},
     "output_type": "display_data"
    },
    {
     "data": {
      "text/plain": [
       "<Figure size 2160x2160 with 0 Axes>"
      ]
     },
     "metadata": {},
     "output_type": "display_data"
    },
    {
     "data": {
      "text/plain": [
       "<Figure size 2160x2160 with 0 Axes>"
      ]
     },
     "metadata": {},
     "output_type": "display_data"
    },
    {
     "data": {
      "text/plain": [
       "<Figure size 2160x2160 with 0 Axes>"
      ]
     },
     "metadata": {},
     "output_type": "display_data"
    },
    {
     "data": {
      "text/plain": [
       "<Figure size 2160x2160 with 0 Axes>"
      ]
     },
     "metadata": {},
     "output_type": "display_data"
    },
    {
     "data": {
      "text/plain": [
       "<Figure size 2160x2160 with 0 Axes>"
      ]
     },
     "metadata": {},
     "output_type": "display_data"
    },
    {
     "data": {
      "text/plain": [
       "<Figure size 2160x2160 with 0 Axes>"
      ]
     },
     "metadata": {},
     "output_type": "display_data"
    },
    {
     "data": {
      "text/plain": [
       "<Figure size 2160x2160 with 0 Axes>"
      ]
     },
     "metadata": {},
     "output_type": "display_data"
    },
    {
     "data": {
      "text/plain": [
       "<Figure size 2160x2160 with 0 Axes>"
      ]
     },
     "metadata": {},
     "output_type": "display_data"
    },
    {
     "data": {
      "text/plain": [
       "<Figure size 2160x2160 with 0 Axes>"
      ]
     },
     "metadata": {},
     "output_type": "display_data"
    },
    {
     "data": {
      "text/plain": [
       "<Figure size 2160x2160 with 0 Axes>"
      ]
     },
     "metadata": {},
     "output_type": "display_data"
    },
    {
     "data": {
      "text/plain": [
       "<Figure size 2160x2160 with 0 Axes>"
      ]
     },
     "metadata": {},
     "output_type": "display_data"
    },
    {
     "data": {
      "text/plain": [
       "<Figure size 2160x2160 with 0 Axes>"
      ]
     },
     "metadata": {},
     "output_type": "display_data"
    },
    {
     "data": {
      "text/plain": [
       "<Figure size 2160x2160 with 0 Axes>"
      ]
     },
     "metadata": {},
     "output_type": "display_data"
    },
    {
     "data": {
      "text/plain": [
       "<Figure size 2160x2160 with 0 Axes>"
      ]
     },
     "metadata": {},
     "output_type": "display_data"
    },
    {
     "data": {
      "text/plain": [
       "<Figure size 2160x2160 with 0 Axes>"
      ]
     },
     "metadata": {},
     "output_type": "display_data"
    },
    {
     "data": {
      "text/plain": [
       "<Figure size 2160x2160 with 0 Axes>"
      ]
     },
     "metadata": {},
     "output_type": "display_data"
    },
    {
     "data": {
      "text/plain": [
       "<Figure size 2160x2160 with 0 Axes>"
      ]
     },
     "metadata": {},
     "output_type": "display_data"
    },
    {
     "data": {
      "text/plain": [
       "<Figure size 2160x2160 with 0 Axes>"
      ]
     },
     "metadata": {},
     "output_type": "display_data"
    },
    {
     "data": {
      "text/plain": [
       "<Figure size 2160x2160 with 0 Axes>"
      ]
     },
     "metadata": {},
     "output_type": "display_data"
    },
    {
     "data": {
      "text/plain": [
       "<Figure size 2160x2160 with 0 Axes>"
      ]
     },
     "metadata": {},
     "output_type": "display_data"
    },
    {
     "data": {
      "text/plain": [
       "<Figure size 2160x2160 with 0 Axes>"
      ]
     },
     "metadata": {},
     "output_type": "display_data"
    },
    {
     "data": {
      "text/plain": [
       "<Figure size 2160x2160 with 0 Axes>"
      ]
     },
     "metadata": {},
     "output_type": "display_data"
    },
    {
     "data": {
      "text/plain": [
       "<Figure size 2160x2160 with 0 Axes>"
      ]
     },
     "metadata": {},
     "output_type": "display_data"
    },
    {
     "data": {
      "text/plain": [
       "<Figure size 2160x2160 with 0 Axes>"
      ]
     },
     "metadata": {},
     "output_type": "display_data"
    },
    {
     "data": {
      "text/plain": [
       "<Figure size 2160x2160 with 0 Axes>"
      ]
     },
     "metadata": {},
     "output_type": "display_data"
    },
    {
     "data": {
      "text/plain": [
       "<Figure size 2160x2160 with 0 Axes>"
      ]
     },
     "metadata": {},
     "output_type": "display_data"
    },
    {
     "data": {
      "text/plain": [
       "<Figure size 2160x2160 with 0 Axes>"
      ]
     },
     "metadata": {},
     "output_type": "display_data"
    },
    {
     "data": {
      "text/plain": [
       "<Figure size 2160x2160 with 0 Axes>"
      ]
     },
     "metadata": {},
     "output_type": "display_data"
    },
    {
     "data": {
      "text/plain": [
       "<Figure size 2160x2160 with 0 Axes>"
      ]
     },
     "metadata": {},
     "output_type": "display_data"
    },
    {
     "data": {
      "text/plain": [
       "<Figure size 2160x2160 with 0 Axes>"
      ]
     },
     "metadata": {},
     "output_type": "display_data"
    },
    {
     "data": {
      "text/plain": [
       "<Figure size 2160x2160 with 0 Axes>"
      ]
     },
     "metadata": {},
     "output_type": "display_data"
    },
    {
     "data": {
      "text/plain": [
       "<Figure size 2160x2160 with 0 Axes>"
      ]
     },
     "metadata": {},
     "output_type": "display_data"
    },
    {
     "data": {
      "text/plain": [
       "<Figure size 2160x2160 with 0 Axes>"
      ]
     },
     "metadata": {},
     "output_type": "display_data"
    },
    {
     "data": {
      "text/plain": [
       "<Figure size 2160x2160 with 0 Axes>"
      ]
     },
     "metadata": {},
     "output_type": "display_data"
    },
    {
     "data": {
      "text/plain": [
       "<Figure size 2160x2160 with 0 Axes>"
      ]
     },
     "metadata": {},
     "output_type": "display_data"
    },
    {
     "data": {
      "text/plain": [
       "<Figure size 2160x2160 with 0 Axes>"
      ]
     },
     "metadata": {},
     "output_type": "display_data"
    },
    {
     "data": {
      "text/plain": [
       "<Figure size 2160x2160 with 0 Axes>"
      ]
     },
     "metadata": {},
     "output_type": "display_data"
    },
    {
     "data": {
      "text/plain": [
       "<Figure size 2160x2160 with 0 Axes>"
      ]
     },
     "metadata": {},
     "output_type": "display_data"
    },
    {
     "data": {
      "text/plain": [
       "<Figure size 2160x2160 with 0 Axes>"
      ]
     },
     "metadata": {},
     "output_type": "display_data"
    },
    {
     "data": {
      "text/plain": [
       "<Figure size 2160x2160 with 0 Axes>"
      ]
     },
     "metadata": {},
     "output_type": "display_data"
    },
    {
     "data": {
      "text/plain": [
       "<Figure size 2160x2160 with 0 Axes>"
      ]
     },
     "metadata": {},
     "output_type": "display_data"
    },
    {
     "data": {
      "text/plain": [
       "<Figure size 2160x2160 with 0 Axes>"
      ]
     },
     "metadata": {},
     "output_type": "display_data"
    },
    {
     "data": {
      "text/plain": [
       "<Figure size 2160x2160 with 0 Axes>"
      ]
     },
     "metadata": {},
     "output_type": "display_data"
    },
    {
     "data": {
      "text/plain": [
       "<Figure size 2160x2160 with 0 Axes>"
      ]
     },
     "metadata": {},
     "output_type": "display_data"
    },
    {
     "data": {
      "text/plain": [
       "<Figure size 2160x2160 with 0 Axes>"
      ]
     },
     "metadata": {},
     "output_type": "display_data"
    },
    {
     "data": {
      "text/plain": [
       "<Figure size 2160x2160 with 0 Axes>"
      ]
     },
     "metadata": {},
     "output_type": "display_data"
    },
    {
     "data": {
      "text/plain": [
       "<Figure size 2160x2160 with 0 Axes>"
      ]
     },
     "metadata": {},
     "output_type": "display_data"
    },
    {
     "data": {
      "text/plain": [
       "<Figure size 2160x2160 with 0 Axes>"
      ]
     },
     "metadata": {},
     "output_type": "display_data"
    },
    {
     "data": {
      "text/plain": [
       "<Figure size 2160x2160 with 0 Axes>"
      ]
     },
     "metadata": {},
     "output_type": "display_data"
    },
    {
     "data": {
      "text/plain": [
       "<Figure size 2160x2160 with 0 Axes>"
      ]
     },
     "metadata": {},
     "output_type": "display_data"
    },
    {
     "data": {
      "text/plain": [
       "<Figure size 2160x2160 with 0 Axes>"
      ]
     },
     "metadata": {},
     "output_type": "display_data"
    },
    {
     "data": {
      "text/plain": [
       "<Figure size 2160x2160 with 0 Axes>"
      ]
     },
     "metadata": {},
     "output_type": "display_data"
    },
    {
     "data": {
      "text/plain": [
       "<Figure size 2160x2160 with 0 Axes>"
      ]
     },
     "metadata": {},
     "output_type": "display_data"
    },
    {
     "data": {
      "text/plain": [
       "<Figure size 2160x2160 with 0 Axes>"
      ]
     },
     "metadata": {},
     "output_type": "display_data"
    },
    {
     "data": {
      "text/plain": [
       "<Figure size 2160x2160 with 0 Axes>"
      ]
     },
     "metadata": {},
     "output_type": "display_data"
    },
    {
     "data": {
      "text/plain": [
       "<Figure size 2160x2160 with 0 Axes>"
      ]
     },
     "metadata": {},
     "output_type": "display_data"
    },
    {
     "data": {
      "text/plain": [
       "<Figure size 2160x2160 with 0 Axes>"
      ]
     },
     "metadata": {},
     "output_type": "display_data"
    },
    {
     "data": {
      "text/plain": [
       "<Figure size 2160x2160 with 0 Axes>"
      ]
     },
     "metadata": {},
     "output_type": "display_data"
    },
    {
     "data": {
      "text/plain": [
       "<Figure size 2160x2160 with 0 Axes>"
      ]
     },
     "metadata": {},
     "output_type": "display_data"
    },
    {
     "data": {
      "text/plain": [
       "<Figure size 2160x2160 with 0 Axes>"
      ]
     },
     "metadata": {},
     "output_type": "display_data"
    },
    {
     "data": {
      "text/plain": [
       "<Figure size 2160x2160 with 0 Axes>"
      ]
     },
     "metadata": {},
     "output_type": "display_data"
    },
    {
     "data": {
      "text/plain": [
       "<Figure size 2160x2160 with 0 Axes>"
      ]
     },
     "metadata": {},
     "output_type": "display_data"
    },
    {
     "data": {
      "text/plain": [
       "<Figure size 2160x2160 with 0 Axes>"
      ]
     },
     "metadata": {},
     "output_type": "display_data"
    },
    {
     "data": {
      "text/plain": [
       "<Figure size 2160x2160 with 0 Axes>"
      ]
     },
     "metadata": {},
     "output_type": "display_data"
    },
    {
     "data": {
      "text/plain": [
       "<Figure size 2160x2160 with 0 Axes>"
      ]
     },
     "metadata": {},
     "output_type": "display_data"
    },
    {
     "data": {
      "text/plain": [
       "<Figure size 2160x2160 with 0 Axes>"
      ]
     },
     "metadata": {},
     "output_type": "display_data"
    },
    {
     "data": {
      "text/plain": [
       "<Figure size 2160x2160 with 0 Axes>"
      ]
     },
     "metadata": {},
     "output_type": "display_data"
    },
    {
     "data": {
      "text/plain": [
       "<Figure size 2160x2160 with 0 Axes>"
      ]
     },
     "metadata": {},
     "output_type": "display_data"
    },
    {
     "data": {
      "text/plain": [
       "<Figure size 2160x2160 with 0 Axes>"
      ]
     },
     "metadata": {},
     "output_type": "display_data"
    },
    {
     "data": {
      "text/plain": [
       "<Figure size 2160x2160 with 0 Axes>"
      ]
     },
     "metadata": {},
     "output_type": "display_data"
    },
    {
     "data": {
      "text/plain": [
       "<Figure size 2160x2160 with 0 Axes>"
      ]
     },
     "metadata": {},
     "output_type": "display_data"
    },
    {
     "data": {
      "text/plain": [
       "<Figure size 2160x2160 with 0 Axes>"
      ]
     },
     "metadata": {},
     "output_type": "display_data"
    },
    {
     "data": {
      "text/plain": [
       "<Figure size 2160x2160 with 0 Axes>"
      ]
     },
     "metadata": {},
     "output_type": "display_data"
    },
    {
     "data": {
      "text/plain": [
       "<Figure size 2160x2160 with 0 Axes>"
      ]
     },
     "metadata": {},
     "output_type": "display_data"
    },
    {
     "data": {
      "text/plain": [
       "<Figure size 2160x2160 with 0 Axes>"
      ]
     },
     "metadata": {},
     "output_type": "display_data"
    },
    {
     "data": {
      "text/plain": [
       "<Figure size 2160x2160 with 0 Axes>"
      ]
     },
     "metadata": {},
     "output_type": "display_data"
    },
    {
     "data": {
      "text/plain": [
       "<Figure size 2160x2160 with 0 Axes>"
      ]
     },
     "metadata": {},
     "output_type": "display_data"
    },
    {
     "data": {
      "text/plain": [
       "<Figure size 2160x2160 with 0 Axes>"
      ]
     },
     "metadata": {},
     "output_type": "display_data"
    },
    {
     "data": {
      "text/plain": [
       "<Figure size 2160x2160 with 0 Axes>"
      ]
     },
     "metadata": {},
     "output_type": "display_data"
    },
    {
     "data": {
      "text/plain": [
       "<Figure size 2160x2160 with 0 Axes>"
      ]
     },
     "metadata": {},
     "output_type": "display_data"
    },
    {
     "data": {
      "text/plain": [
       "<Figure size 2160x2160 with 0 Axes>"
      ]
     },
     "metadata": {},
     "output_type": "display_data"
    },
    {
     "data": {
      "text/plain": [
       "<Figure size 2160x2160 with 0 Axes>"
      ]
     },
     "metadata": {},
     "output_type": "display_data"
    },
    {
     "data": {
      "text/plain": [
       "<Figure size 2160x2160 with 0 Axes>"
      ]
     },
     "metadata": {},
     "output_type": "display_data"
    },
    {
     "data": {
      "text/plain": [
       "<Figure size 2160x2160 with 0 Axes>"
      ]
     },
     "metadata": {},
     "output_type": "display_data"
    },
    {
     "data": {
      "text/plain": [
       "<Figure size 2160x2160 with 0 Axes>"
      ]
     },
     "metadata": {},
     "output_type": "display_data"
    },
    {
     "data": {
      "text/plain": [
       "<Figure size 2160x2160 with 0 Axes>"
      ]
     },
     "metadata": {},
     "output_type": "display_data"
    },
    {
     "data": {
      "text/plain": [
       "<Figure size 2160x2160 with 0 Axes>"
      ]
     },
     "metadata": {},
     "output_type": "display_data"
    },
    {
     "data": {
      "text/plain": [
       "<Figure size 2160x2160 with 0 Axes>"
      ]
     },
     "metadata": {},
     "output_type": "display_data"
    },
    {
     "data": {
      "text/plain": [
       "<Figure size 2160x2160 with 0 Axes>"
      ]
     },
     "metadata": {},
     "output_type": "display_data"
    },
    {
     "data": {
      "text/plain": [
       "<Figure size 2160x2160 with 0 Axes>"
      ]
     },
     "metadata": {},
     "output_type": "display_data"
    },
    {
     "data": {
      "text/plain": [
       "<Figure size 2160x2160 with 0 Axes>"
      ]
     },
     "metadata": {},
     "output_type": "display_data"
    },
    {
     "data": {
      "text/plain": [
       "<Figure size 2160x2160 with 0 Axes>"
      ]
     },
     "metadata": {},
     "output_type": "display_data"
    },
    {
     "data": {
      "text/plain": [
       "<Figure size 2160x2160 with 0 Axes>"
      ]
     },
     "metadata": {},
     "output_type": "display_data"
    },
    {
     "data": {
      "text/plain": [
       "<Figure size 2160x2160 with 0 Axes>"
      ]
     },
     "metadata": {},
     "output_type": "display_data"
    },
    {
     "data": {
      "text/plain": [
       "<Figure size 2160x2160 with 0 Axes>"
      ]
     },
     "metadata": {},
     "output_type": "display_data"
    },
    {
     "data": {
      "text/plain": [
       "<Figure size 2160x2160 with 0 Axes>"
      ]
     },
     "metadata": {},
     "output_type": "display_data"
    },
    {
     "data": {
      "text/plain": [
       "<Figure size 2160x2160 with 0 Axes>"
      ]
     },
     "metadata": {},
     "output_type": "display_data"
    },
    {
     "data": {
      "text/plain": [
       "<Figure size 2160x2160 with 0 Axes>"
      ]
     },
     "metadata": {},
     "output_type": "display_data"
    },
    {
     "data": {
      "text/plain": [
       "<Figure size 2160x2160 with 0 Axes>"
      ]
     },
     "metadata": {},
     "output_type": "display_data"
    },
    {
     "data": {
      "text/plain": [
       "<Figure size 2160x2160 with 0 Axes>"
      ]
     },
     "metadata": {},
     "output_type": "display_data"
    },
    {
     "data": {
      "text/plain": [
       "<Figure size 2160x2160 with 0 Axes>"
      ]
     },
     "metadata": {},
     "output_type": "display_data"
    },
    {
     "data": {
      "text/plain": [
       "<Figure size 2160x2160 with 0 Axes>"
      ]
     },
     "metadata": {},
     "output_type": "display_data"
    },
    {
     "data": {
      "text/plain": [
       "<Figure size 2160x2160 with 0 Axes>"
      ]
     },
     "metadata": {},
     "output_type": "display_data"
    },
    {
     "data": {
      "text/plain": [
       "<Figure size 2160x2160 with 0 Axes>"
      ]
     },
     "metadata": {},
     "output_type": "display_data"
    },
    {
     "data": {
      "text/plain": [
       "<Figure size 2160x2160 with 0 Axes>"
      ]
     },
     "metadata": {},
     "output_type": "display_data"
    },
    {
     "data": {
      "text/plain": [
       "<Figure size 2160x2160 with 0 Axes>"
      ]
     },
     "metadata": {},
     "output_type": "display_data"
    },
    {
     "data": {
      "text/plain": [
       "<Figure size 2160x2160 with 0 Axes>"
      ]
     },
     "metadata": {},
     "output_type": "display_data"
    },
    {
     "data": {
      "text/plain": [
       "<Figure size 2160x2160 with 0 Axes>"
      ]
     },
     "metadata": {},
     "output_type": "display_data"
    },
    {
     "data": {
      "text/plain": [
       "<Figure size 2160x2160 with 0 Axes>"
      ]
     },
     "metadata": {},
     "output_type": "display_data"
    },
    {
     "data": {
      "text/plain": [
       "<Figure size 2160x2160 with 0 Axes>"
      ]
     },
     "metadata": {},
     "output_type": "display_data"
    },
    {
     "data": {
      "text/plain": [
       "<Figure size 2160x2160 with 0 Axes>"
      ]
     },
     "metadata": {},
     "output_type": "display_data"
    },
    {
     "data": {
      "text/plain": [
       "<Figure size 2160x2160 with 0 Axes>"
      ]
     },
     "metadata": {},
     "output_type": "display_data"
    },
    {
     "data": {
      "text/plain": [
       "<Figure size 2160x2160 with 0 Axes>"
      ]
     },
     "metadata": {},
     "output_type": "display_data"
    },
    {
     "data": {
      "text/plain": [
       "<Figure size 2160x2160 with 0 Axes>"
      ]
     },
     "metadata": {},
     "output_type": "display_data"
    },
    {
     "data": {
      "text/plain": [
       "<Figure size 2160x2160 with 0 Axes>"
      ]
     },
     "metadata": {},
     "output_type": "display_data"
    },
    {
     "data": {
      "text/plain": [
       "<Figure size 2160x2160 with 0 Axes>"
      ]
     },
     "metadata": {},
     "output_type": "display_data"
    },
    {
     "data": {
      "text/plain": [
       "<Figure size 2160x2160 with 0 Axes>"
      ]
     },
     "metadata": {},
     "output_type": "display_data"
    },
    {
     "data": {
      "text/plain": [
       "<Figure size 2160x2160 with 0 Axes>"
      ]
     },
     "metadata": {},
     "output_type": "display_data"
    },
    {
     "data": {
      "text/plain": [
       "<Figure size 2160x2160 with 0 Axes>"
      ]
     },
     "metadata": {},
     "output_type": "display_data"
    },
    {
     "data": {
      "text/plain": [
       "<Figure size 2160x2160 with 0 Axes>"
      ]
     },
     "metadata": {},
     "output_type": "display_data"
    },
    {
     "data": {
      "text/plain": [
       "<Figure size 2160x2160 with 0 Axes>"
      ]
     },
     "metadata": {},
     "output_type": "display_data"
    },
    {
     "data": {
      "text/plain": [
       "<Figure size 2160x2160 with 0 Axes>"
      ]
     },
     "metadata": {},
     "output_type": "display_data"
    },
    {
     "data": {
      "text/plain": [
       "<Figure size 2160x2160 with 0 Axes>"
      ]
     },
     "metadata": {},
     "output_type": "display_data"
    },
    {
     "data": {
      "text/plain": [
       "<Figure size 2160x2160 with 0 Axes>"
      ]
     },
     "metadata": {},
     "output_type": "display_data"
    },
    {
     "data": {
      "text/plain": [
       "<Figure size 2160x2160 with 0 Axes>"
      ]
     },
     "metadata": {},
     "output_type": "display_data"
    },
    {
     "data": {
      "text/plain": [
       "<Figure size 2160x2160 with 0 Axes>"
      ]
     },
     "metadata": {},
     "output_type": "display_data"
    },
    {
     "data": {
      "text/plain": [
       "<Figure size 2160x2160 with 0 Axes>"
      ]
     },
     "metadata": {},
     "output_type": "display_data"
    },
    {
     "data": {
      "text/plain": [
       "<Figure size 2160x2160 with 0 Axes>"
      ]
     },
     "metadata": {},
     "output_type": "display_data"
    },
    {
     "data": {
      "text/plain": [
       "<Figure size 2160x2160 with 0 Axes>"
      ]
     },
     "metadata": {},
     "output_type": "display_data"
    },
    {
     "data": {
      "text/plain": [
       "<Figure size 2160x2160 with 0 Axes>"
      ]
     },
     "metadata": {},
     "output_type": "display_data"
    },
    {
     "data": {
      "text/plain": [
       "<Figure size 2160x2160 with 0 Axes>"
      ]
     },
     "metadata": {},
     "output_type": "display_data"
    },
    {
     "data": {
      "text/plain": [
       "<Figure size 2160x2160 with 0 Axes>"
      ]
     },
     "metadata": {},
     "output_type": "display_data"
    },
    {
     "data": {
      "text/plain": [
       "<Figure size 2160x2160 with 0 Axes>"
      ]
     },
     "metadata": {},
     "output_type": "display_data"
    },
    {
     "data": {
      "text/plain": [
       "<Figure size 2160x2160 with 0 Axes>"
      ]
     },
     "metadata": {},
     "output_type": "display_data"
    },
    {
     "data": {
      "text/plain": [
       "<Figure size 2160x2160 with 0 Axes>"
      ]
     },
     "metadata": {},
     "output_type": "display_data"
    },
    {
     "data": {
      "text/plain": [
       "<Figure size 2160x2160 with 0 Axes>"
      ]
     },
     "metadata": {},
     "output_type": "display_data"
    },
    {
     "data": {
      "text/plain": [
       "<Figure size 2160x2160 with 0 Axes>"
      ]
     },
     "metadata": {},
     "output_type": "display_data"
    },
    {
     "data": {
      "text/plain": [
       "<Figure size 2160x2160 with 0 Axes>"
      ]
     },
     "metadata": {},
     "output_type": "display_data"
    },
    {
     "data": {
      "text/plain": [
       "<Figure size 2160x2160 with 0 Axes>"
      ]
     },
     "metadata": {},
     "output_type": "display_data"
    },
    {
     "data": {
      "text/plain": [
       "<Figure size 2160x2160 with 0 Axes>"
      ]
     },
     "metadata": {},
     "output_type": "display_data"
    },
    {
     "data": {
      "text/plain": [
       "<Figure size 2160x2160 with 0 Axes>"
      ]
     },
     "metadata": {},
     "output_type": "display_data"
    },
    {
     "data": {
      "text/plain": [
       "<Figure size 2160x2160 with 0 Axes>"
      ]
     },
     "metadata": {},
     "output_type": "display_data"
    },
    {
     "data": {
      "text/plain": [
       "<Figure size 2160x2160 with 0 Axes>"
      ]
     },
     "metadata": {},
     "output_type": "display_data"
    },
    {
     "data": {
      "text/plain": [
       "<Figure size 2160x2160 with 0 Axes>"
      ]
     },
     "metadata": {},
     "output_type": "display_data"
    },
    {
     "data": {
      "text/plain": [
       "<Figure size 2160x2160 with 0 Axes>"
      ]
     },
     "metadata": {},
     "output_type": "display_data"
    },
    {
     "data": {
      "text/plain": [
       "<Figure size 2160x2160 with 0 Axes>"
      ]
     },
     "metadata": {},
     "output_type": "display_data"
    },
    {
     "data": {
      "text/plain": [
       "<Figure size 2160x2160 with 0 Axes>"
      ]
     },
     "metadata": {},
     "output_type": "display_data"
    },
    {
     "data": {
      "text/plain": [
       "<Figure size 2160x2160 with 0 Axes>"
      ]
     },
     "metadata": {},
     "output_type": "display_data"
    },
    {
     "data": {
      "text/plain": [
       "<Figure size 2160x2160 with 0 Axes>"
      ]
     },
     "metadata": {},
     "output_type": "display_data"
    },
    {
     "data": {
      "text/plain": [
       "<Figure size 2160x2160 with 0 Axes>"
      ]
     },
     "metadata": {},
     "output_type": "display_data"
    },
    {
     "data": {
      "text/plain": [
       "<Figure size 2160x2160 with 0 Axes>"
      ]
     },
     "metadata": {},
     "output_type": "display_data"
    },
    {
     "data": {
      "text/plain": [
       "<Figure size 2160x2160 with 0 Axes>"
      ]
     },
     "metadata": {},
     "output_type": "display_data"
    },
    {
     "data": {
      "text/plain": [
       "<Figure size 2160x2160 with 0 Axes>"
      ]
     },
     "metadata": {},
     "output_type": "display_data"
    },
    {
     "data": {
      "text/plain": [
       "<Figure size 2160x2160 with 0 Axes>"
      ]
     },
     "metadata": {},
     "output_type": "display_data"
    },
    {
     "data": {
      "text/plain": [
       "<Figure size 2160x2160 with 0 Axes>"
      ]
     },
     "metadata": {},
     "output_type": "display_data"
    },
    {
     "data": {
      "text/plain": [
       "<Figure size 2160x2160 with 0 Axes>"
      ]
     },
     "metadata": {},
     "output_type": "display_data"
    },
    {
     "data": {
      "text/plain": [
       "<Figure size 2160x2160 with 0 Axes>"
      ]
     },
     "metadata": {},
     "output_type": "display_data"
    },
    {
     "data": {
      "text/plain": [
       "<Figure size 2160x2160 with 0 Axes>"
      ]
     },
     "metadata": {},
     "output_type": "display_data"
    },
    {
     "data": {
      "text/plain": [
       "<Figure size 2160x2160 with 0 Axes>"
      ]
     },
     "metadata": {},
     "output_type": "display_data"
    },
    {
     "data": {
      "text/plain": [
       "<Figure size 2160x2160 with 0 Axes>"
      ]
     },
     "metadata": {},
     "output_type": "display_data"
    },
    {
     "data": {
      "text/plain": [
       "<Figure size 2160x2160 with 0 Axes>"
      ]
     },
     "metadata": {},
     "output_type": "display_data"
    },
    {
     "data": {
      "text/plain": [
       "<Figure size 2160x2160 with 0 Axes>"
      ]
     },
     "metadata": {},
     "output_type": "display_data"
    },
    {
     "data": {
      "text/plain": [
       "<Figure size 2160x2160 with 0 Axes>"
      ]
     },
     "metadata": {},
     "output_type": "display_data"
    },
    {
     "data": {
      "text/plain": [
       "<Figure size 2160x2160 with 0 Axes>"
      ]
     },
     "metadata": {},
     "output_type": "display_data"
    },
    {
     "data": {
      "text/plain": [
       "<Figure size 2160x2160 with 0 Axes>"
      ]
     },
     "metadata": {},
     "output_type": "display_data"
    },
    {
     "data": {
      "text/plain": [
       "<Figure size 2160x2160 with 0 Axes>"
      ]
     },
     "metadata": {},
     "output_type": "display_data"
    },
    {
     "data": {
      "text/plain": [
       "<Figure size 2160x2160 with 0 Axes>"
      ]
     },
     "metadata": {},
     "output_type": "display_data"
    },
    {
     "data": {
      "text/plain": [
       "<Figure size 2160x2160 with 0 Axes>"
      ]
     },
     "metadata": {},
     "output_type": "display_data"
    },
    {
     "data": {
      "text/plain": [
       "<Figure size 2160x2160 with 0 Axes>"
      ]
     },
     "metadata": {},
     "output_type": "display_data"
    },
    {
     "data": {
      "text/plain": [
       "<Figure size 2160x2160 with 0 Axes>"
      ]
     },
     "metadata": {},
     "output_type": "display_data"
    },
    {
     "data": {
      "text/plain": [
       "<Figure size 2160x2160 with 0 Axes>"
      ]
     },
     "metadata": {},
     "output_type": "display_data"
    },
    {
     "data": {
      "text/plain": [
       "<Figure size 2160x2160 with 0 Axes>"
      ]
     },
     "metadata": {},
     "output_type": "display_data"
    },
    {
     "data": {
      "text/plain": [
       "<Figure size 2160x2160 with 0 Axes>"
      ]
     },
     "metadata": {},
     "output_type": "display_data"
    },
    {
     "data": {
      "text/plain": [
       "<Figure size 2160x2160 with 0 Axes>"
      ]
     },
     "metadata": {},
     "output_type": "display_data"
    },
    {
     "data": {
      "text/plain": [
       "<Figure size 2160x2160 with 0 Axes>"
      ]
     },
     "metadata": {},
     "output_type": "display_data"
    },
    {
     "data": {
      "text/plain": [
       "<Figure size 2160x2160 with 0 Axes>"
      ]
     },
     "metadata": {},
     "output_type": "display_data"
    },
    {
     "data": {
      "text/plain": [
       "<Figure size 2160x2160 with 0 Axes>"
      ]
     },
     "metadata": {},
     "output_type": "display_data"
    },
    {
     "data": {
      "text/plain": [
       "<Figure size 2160x2160 with 0 Axes>"
      ]
     },
     "metadata": {},
     "output_type": "display_data"
    },
    {
     "data": {
      "text/plain": [
       "<Figure size 2160x2160 with 0 Axes>"
      ]
     },
     "metadata": {},
     "output_type": "display_data"
    },
    {
     "data": {
      "text/plain": [
       "<Figure size 2160x2160 with 0 Axes>"
      ]
     },
     "metadata": {},
     "output_type": "display_data"
    },
    {
     "data": {
      "text/plain": [
       "<Figure size 2160x2160 with 0 Axes>"
      ]
     },
     "metadata": {},
     "output_type": "display_data"
    },
    {
     "data": {
      "text/plain": [
       "<Figure size 2160x2160 with 0 Axes>"
      ]
     },
     "metadata": {},
     "output_type": "display_data"
    },
    {
     "data": {
      "text/plain": [
       "<Figure size 2160x2160 with 0 Axes>"
      ]
     },
     "metadata": {},
     "output_type": "display_data"
    },
    {
     "data": {
      "text/plain": [
       "<Figure size 2160x2160 with 0 Axes>"
      ]
     },
     "metadata": {},
     "output_type": "display_data"
    },
    {
     "data": {
      "text/plain": [
       "<Figure size 2160x2160 with 0 Axes>"
      ]
     },
     "metadata": {},
     "output_type": "display_data"
    },
    {
     "data": {
      "text/plain": [
       "<Figure size 2160x2160 with 0 Axes>"
      ]
     },
     "metadata": {},
     "output_type": "display_data"
    },
    {
     "data": {
      "text/plain": [
       "<Figure size 2160x2160 with 0 Axes>"
      ]
     },
     "metadata": {},
     "output_type": "display_data"
    },
    {
     "data": {
      "text/plain": [
       "<Figure size 2160x2160 with 0 Axes>"
      ]
     },
     "metadata": {},
     "output_type": "display_data"
    },
    {
     "data": {
      "text/plain": [
       "<Figure size 2160x2160 with 0 Axes>"
      ]
     },
     "metadata": {},
     "output_type": "display_data"
    },
    {
     "data": {
      "text/plain": [
       "<Figure size 2160x2160 with 0 Axes>"
      ]
     },
     "metadata": {},
     "output_type": "display_data"
    },
    {
     "data": {
      "text/plain": [
       "<Figure size 2160x2160 with 0 Axes>"
      ]
     },
     "metadata": {},
     "output_type": "display_data"
    },
    {
     "data": {
      "text/plain": [
       "<Figure size 2160x2160 with 0 Axes>"
      ]
     },
     "metadata": {},
     "output_type": "display_data"
    },
    {
     "data": {
      "text/plain": [
       "<Figure size 2160x2160 with 0 Axes>"
      ]
     },
     "metadata": {},
     "output_type": "display_data"
    },
    {
     "data": {
      "text/plain": [
       "<Figure size 2160x2160 with 0 Axes>"
      ]
     },
     "metadata": {},
     "output_type": "display_data"
    },
    {
     "data": {
      "text/plain": [
       "<Figure size 2160x2160 with 0 Axes>"
      ]
     },
     "metadata": {},
     "output_type": "display_data"
    },
    {
     "data": {
      "text/plain": [
       "<Figure size 2160x2160 with 0 Axes>"
      ]
     },
     "metadata": {},
     "output_type": "display_data"
    },
    {
     "data": {
      "text/plain": [
       "<Figure size 2160x2160 with 0 Axes>"
      ]
     },
     "metadata": {},
     "output_type": "display_data"
    },
    {
     "data": {
      "text/plain": [
       "<Figure size 2160x2160 with 0 Axes>"
      ]
     },
     "metadata": {},
     "output_type": "display_data"
    },
    {
     "data": {
      "text/plain": [
       "<Figure size 2160x2160 with 0 Axes>"
      ]
     },
     "metadata": {},
     "output_type": "display_data"
    },
    {
     "data": {
      "text/plain": [
       "<Figure size 2160x2160 with 0 Axes>"
      ]
     },
     "metadata": {},
     "output_type": "display_data"
    },
    {
     "data": {
      "text/plain": [
       "<Figure size 2160x2160 with 0 Axes>"
      ]
     },
     "metadata": {},
     "output_type": "display_data"
    },
    {
     "data": {
      "text/plain": [
       "<Figure size 2160x2160 with 0 Axes>"
      ]
     },
     "metadata": {},
     "output_type": "display_data"
    },
    {
     "data": {
      "text/plain": [
       "<Figure size 2160x2160 with 0 Axes>"
      ]
     },
     "metadata": {},
     "output_type": "display_data"
    },
    {
     "data": {
      "text/plain": [
       "<Figure size 2160x2160 with 0 Axes>"
      ]
     },
     "metadata": {},
     "output_type": "display_data"
    },
    {
     "data": {
      "text/plain": [
       "<Figure size 2160x2160 with 0 Axes>"
      ]
     },
     "metadata": {},
     "output_type": "display_data"
    },
    {
     "data": {
      "text/plain": [
       "<Figure size 2160x2160 with 0 Axes>"
      ]
     },
     "metadata": {},
     "output_type": "display_data"
    },
    {
     "data": {
      "text/plain": [
       "<Figure size 2160x2160 with 0 Axes>"
      ]
     },
     "metadata": {},
     "output_type": "display_data"
    },
    {
     "data": {
      "text/plain": [
       "<Figure size 2160x2160 with 0 Axes>"
      ]
     },
     "metadata": {},
     "output_type": "display_data"
    },
    {
     "data": {
      "text/plain": [
       "<Figure size 2160x2160 with 0 Axes>"
      ]
     },
     "metadata": {},
     "output_type": "display_data"
    },
    {
     "data": {
      "text/plain": [
       "<Figure size 2160x2160 with 0 Axes>"
      ]
     },
     "metadata": {},
     "output_type": "display_data"
    },
    {
     "data": {
      "text/plain": [
       "<Figure size 2160x2160 with 0 Axes>"
      ]
     },
     "metadata": {},
     "output_type": "display_data"
    },
    {
     "data": {
      "text/plain": [
       "<Figure size 2160x2160 with 0 Axes>"
      ]
     },
     "metadata": {},
     "output_type": "display_data"
    },
    {
     "data": {
      "text/plain": [
       "<Figure size 2160x2160 with 0 Axes>"
      ]
     },
     "metadata": {},
     "output_type": "display_data"
    },
    {
     "data": {
      "text/plain": [
       "<Figure size 2160x2160 with 0 Axes>"
      ]
     },
     "metadata": {},
     "output_type": "display_data"
    },
    {
     "data": {
      "text/plain": [
       "<Figure size 2160x2160 with 0 Axes>"
      ]
     },
     "metadata": {},
     "output_type": "display_data"
    },
    {
     "data": {
      "text/plain": [
       "<Figure size 2160x2160 with 0 Axes>"
      ]
     },
     "metadata": {},
     "output_type": "display_data"
    },
    {
     "data": {
      "text/plain": [
       "<Figure size 2160x2160 with 0 Axes>"
      ]
     },
     "metadata": {},
     "output_type": "display_data"
    },
    {
     "data": {
      "text/plain": [
       "<Figure size 2160x2160 with 0 Axes>"
      ]
     },
     "metadata": {},
     "output_type": "display_data"
    },
    {
     "data": {
      "text/plain": [
       "<Figure size 2160x2160 with 0 Axes>"
      ]
     },
     "metadata": {},
     "output_type": "display_data"
    },
    {
     "data": {
      "text/plain": [
       "<Figure size 2160x2160 with 0 Axes>"
      ]
     },
     "metadata": {},
     "output_type": "display_data"
    },
    {
     "data": {
      "text/plain": [
       "<Figure size 2160x2160 with 0 Axes>"
      ]
     },
     "metadata": {},
     "output_type": "display_data"
    },
    {
     "data": {
      "text/plain": [
       "<Figure size 2160x2160 with 0 Axes>"
      ]
     },
     "metadata": {},
     "output_type": "display_data"
    },
    {
     "data": {
      "text/plain": [
       "<Figure size 2160x2160 with 0 Axes>"
      ]
     },
     "metadata": {},
     "output_type": "display_data"
    },
    {
     "data": {
      "text/plain": [
       "<Figure size 2160x2160 with 0 Axes>"
      ]
     },
     "metadata": {},
     "output_type": "display_data"
    },
    {
     "data": {
      "text/plain": [
       "<Figure size 2160x2160 with 0 Axes>"
      ]
     },
     "metadata": {},
     "output_type": "display_data"
    },
    {
     "data": {
      "text/plain": [
       "<Figure size 2160x2160 with 0 Axes>"
      ]
     },
     "metadata": {},
     "output_type": "display_data"
    },
    {
     "data": {
      "text/plain": [
       "<Figure size 2160x2160 with 0 Axes>"
      ]
     },
     "metadata": {},
     "output_type": "display_data"
    },
    {
     "data": {
      "text/plain": [
       "<Figure size 2160x2160 with 0 Axes>"
      ]
     },
     "metadata": {},
     "output_type": "display_data"
    },
    {
     "data": {
      "text/plain": [
       "<Figure size 2160x2160 with 0 Axes>"
      ]
     },
     "metadata": {},
     "output_type": "display_data"
    },
    {
     "data": {
      "text/plain": [
       "<Figure size 2160x2160 with 0 Axes>"
      ]
     },
     "metadata": {},
     "output_type": "display_data"
    },
    {
     "data": {
      "text/plain": [
       "<Figure size 2160x2160 with 0 Axes>"
      ]
     },
     "metadata": {},
     "output_type": "display_data"
    },
    {
     "data": {
      "text/plain": [
       "<Figure size 2160x2160 with 0 Axes>"
      ]
     },
     "metadata": {},
     "output_type": "display_data"
    },
    {
     "data": {
      "text/plain": [
       "<Figure size 2160x2160 with 0 Axes>"
      ]
     },
     "metadata": {},
     "output_type": "display_data"
    },
    {
     "data": {
      "text/plain": [
       "<Figure size 2160x2160 with 0 Axes>"
      ]
     },
     "metadata": {},
     "output_type": "display_data"
    },
    {
     "data": {
      "text/plain": [
       "<Figure size 2160x2160 with 0 Axes>"
      ]
     },
     "metadata": {},
     "output_type": "display_data"
    },
    {
     "data": {
      "text/plain": [
       "<Figure size 2160x2160 with 0 Axes>"
      ]
     },
     "metadata": {},
     "output_type": "display_data"
    },
    {
     "data": {
      "text/plain": [
       "<Figure size 2160x2160 with 0 Axes>"
      ]
     },
     "metadata": {},
     "output_type": "display_data"
    },
    {
     "data": {
      "text/plain": [
       "<Figure size 2160x2160 with 0 Axes>"
      ]
     },
     "metadata": {},
     "output_type": "display_data"
    },
    {
     "data": {
      "text/plain": [
       "<Figure size 2160x2160 with 0 Axes>"
      ]
     },
     "metadata": {},
     "output_type": "display_data"
    },
    {
     "data": {
      "text/plain": [
       "<Figure size 2160x2160 with 0 Axes>"
      ]
     },
     "metadata": {},
     "output_type": "display_data"
    },
    {
     "data": {
      "text/plain": [
       "<Figure size 2160x2160 with 0 Axes>"
      ]
     },
     "metadata": {},
     "output_type": "display_data"
    },
    {
     "data": {
      "text/plain": [
       "<Figure size 2160x2160 with 0 Axes>"
      ]
     },
     "metadata": {},
     "output_type": "display_data"
    },
    {
     "data": {
      "text/plain": [
       "<Figure size 2160x2160 with 0 Axes>"
      ]
     },
     "metadata": {},
     "output_type": "display_data"
    },
    {
     "data": {
      "text/plain": [
       "<Figure size 2160x2160 with 0 Axes>"
      ]
     },
     "metadata": {},
     "output_type": "display_data"
    },
    {
     "data": {
      "text/plain": [
       "<Figure size 2160x2160 with 0 Axes>"
      ]
     },
     "metadata": {},
     "output_type": "display_data"
    },
    {
     "data": {
      "text/plain": [
       "<Figure size 2160x2160 with 0 Axes>"
      ]
     },
     "metadata": {},
     "output_type": "display_data"
    },
    {
     "data": {
      "text/plain": [
       "<Figure size 2160x2160 with 0 Axes>"
      ]
     },
     "metadata": {},
     "output_type": "display_data"
    },
    {
     "data": {
      "text/plain": [
       "<Figure size 2160x2160 with 0 Axes>"
      ]
     },
     "metadata": {},
     "output_type": "display_data"
    },
    {
     "data": {
      "text/plain": [
       "<Figure size 2160x2160 with 0 Axes>"
      ]
     },
     "metadata": {},
     "output_type": "display_data"
    },
    {
     "data": {
      "text/plain": [
       "<Figure size 2160x2160 with 0 Axes>"
      ]
     },
     "metadata": {},
     "output_type": "display_data"
    },
    {
     "data": {
      "text/plain": [
       "<Figure size 2160x2160 with 0 Axes>"
      ]
     },
     "metadata": {},
     "output_type": "display_data"
    },
    {
     "data": {
      "text/plain": [
       "<Figure size 2160x2160 with 0 Axes>"
      ]
     },
     "metadata": {},
     "output_type": "display_data"
    },
    {
     "data": {
      "text/plain": [
       "<Figure size 2160x2160 with 0 Axes>"
      ]
     },
     "metadata": {},
     "output_type": "display_data"
    },
    {
     "data": {
      "text/plain": [
       "<Figure size 2160x2160 with 0 Axes>"
      ]
     },
     "metadata": {},
     "output_type": "display_data"
    },
    {
     "data": {
      "text/plain": [
       "<Figure size 2160x2160 with 0 Axes>"
      ]
     },
     "metadata": {},
     "output_type": "display_data"
    },
    {
     "data": {
      "text/plain": [
       "<Figure size 2160x2160 with 0 Axes>"
      ]
     },
     "metadata": {},
     "output_type": "display_data"
    },
    {
     "data": {
      "text/plain": [
       "<Figure size 2160x2160 with 0 Axes>"
      ]
     },
     "metadata": {},
     "output_type": "display_data"
    },
    {
     "data": {
      "text/plain": [
       "<Figure size 2160x2160 with 0 Axes>"
      ]
     },
     "metadata": {},
     "output_type": "display_data"
    },
    {
     "data": {
      "text/plain": [
       "<Figure size 2160x2160 with 0 Axes>"
      ]
     },
     "metadata": {},
     "output_type": "display_data"
    },
    {
     "data": {
      "text/plain": [
       "<Figure size 2160x2160 with 0 Axes>"
      ]
     },
     "metadata": {},
     "output_type": "display_data"
    },
    {
     "data": {
      "text/plain": [
       "<Figure size 2160x2160 with 0 Axes>"
      ]
     },
     "metadata": {},
     "output_type": "display_data"
    },
    {
     "data": {
      "text/plain": [
       "<Figure size 2160x2160 with 0 Axes>"
      ]
     },
     "metadata": {},
     "output_type": "display_data"
    },
    {
     "data": {
      "text/plain": [
       "<Figure size 2160x2160 with 0 Axes>"
      ]
     },
     "metadata": {},
     "output_type": "display_data"
    },
    {
     "data": {
      "text/plain": [
       "<Figure size 2160x2160 with 0 Axes>"
      ]
     },
     "metadata": {},
     "output_type": "display_data"
    },
    {
     "data": {
      "text/plain": [
       "<Figure size 2160x2160 with 0 Axes>"
      ]
     },
     "metadata": {},
     "output_type": "display_data"
    },
    {
     "data": {
      "text/plain": [
       "<Figure size 2160x2160 with 0 Axes>"
      ]
     },
     "metadata": {},
     "output_type": "display_data"
    },
    {
     "data": {
      "text/plain": [
       "<Figure size 2160x2160 with 0 Axes>"
      ]
     },
     "metadata": {},
     "output_type": "display_data"
    },
    {
     "data": {
      "text/plain": [
       "<Figure size 2160x2160 with 0 Axes>"
      ]
     },
     "metadata": {},
     "output_type": "display_data"
    },
    {
     "data": {
      "text/plain": [
       "<Figure size 2160x2160 with 0 Axes>"
      ]
     },
     "metadata": {},
     "output_type": "display_data"
    },
    {
     "data": {
      "text/plain": [
       "<Figure size 2160x2160 with 0 Axes>"
      ]
     },
     "metadata": {},
     "output_type": "display_data"
    },
    {
     "data": {
      "text/plain": [
       "<Figure size 2160x2160 with 0 Axes>"
      ]
     },
     "metadata": {},
     "output_type": "display_data"
    },
    {
     "data": {
      "text/plain": [
       "<Figure size 2160x2160 with 0 Axes>"
      ]
     },
     "metadata": {},
     "output_type": "display_data"
    },
    {
     "data": {
      "text/plain": [
       "<Figure size 2160x2160 with 0 Axes>"
      ]
     },
     "metadata": {},
     "output_type": "display_data"
    },
    {
     "data": {
      "text/plain": [
       "<Figure size 2160x2160 with 0 Axes>"
      ]
     },
     "metadata": {},
     "output_type": "display_data"
    },
    {
     "data": {
      "text/plain": [
       "<Figure size 2160x2160 with 0 Axes>"
      ]
     },
     "metadata": {},
     "output_type": "display_data"
    },
    {
     "data": {
      "text/plain": [
       "<Figure size 2160x2160 with 0 Axes>"
      ]
     },
     "metadata": {},
     "output_type": "display_data"
    },
    {
     "data": {
      "text/plain": [
       "<Figure size 2160x2160 with 0 Axes>"
      ]
     },
     "metadata": {},
     "output_type": "display_data"
    },
    {
     "data": {
      "text/plain": [
       "<Figure size 2160x2160 with 0 Axes>"
      ]
     },
     "metadata": {},
     "output_type": "display_data"
    }
   ],
   "source": [
    "os.chdir('/storage/filament/result/cluster_3d/40Mpc/prediction/aug_xyz/pic/')\n",
    "for i in range(16):\n",
    "    for j in range(24):\n",
    "        plt.figure(figsize=[30,30])\n",
    "        plt.imsave('i_' + str(i) + ' j_' + str(j) +'.png',test[i,j,:,:,0],cmap='gray',dpi=300,format='png')\n",
    "\n"
   ]
  },
  {
   "cell_type": "code",
   "execution_count": null,
   "metadata": {},
   "outputs": [],
   "source": [
    "K"
   ]
  }
 ],
 "metadata": {
  "kernelspec": {
   "display_name": "Python 3",
   "language": "python",
   "name": "python3"
  },
  "language_info": {
   "codemirror_mode": {
    "name": "ipython",
    "version": 3
   },
   "file_extension": ".py",
   "mimetype": "text/x-python",
   "name": "python",
   "nbconvert_exporter": "python",
   "pygments_lexer": "ipython3",
   "version": "3.6.9"
  }
 },
 "nbformat": 4,
 "nbformat_minor": 2
}
