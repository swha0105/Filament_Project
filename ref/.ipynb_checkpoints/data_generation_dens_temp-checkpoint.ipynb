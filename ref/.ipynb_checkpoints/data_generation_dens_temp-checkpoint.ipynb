{
 "cells": [
  {
   "cell_type": "code",
   "execution_count": 4,
   "metadata": {},
   "outputs": [
    {
     "ename": "ModuleNotFoundError",
     "evalue": "No module named 'pandas'",
     "output_type": "error",
     "traceback": [
      "\u001b[0;31m---------------------------------------------------------------------------\u001b[0m",
      "\u001b[0;31mModuleNotFoundError\u001b[0m                       Traceback (most recent call last)",
      "\u001b[0;32m<ipython-input-4-7c2e9b8123eb>\u001b[0m in \u001b[0;36m<module>\u001b[0;34m\u001b[0m\n\u001b[1;32m      6\u001b[0m \u001b[0;32mimport\u001b[0m \u001b[0mtqdm\u001b[0m\u001b[0;34m\u001b[0m\u001b[0;34m\u001b[0m\u001b[0m\n\u001b[1;32m      7\u001b[0m \u001b[0;32mimport\u001b[0m \u001b[0mcv2\u001b[0m\u001b[0;34m\u001b[0m\u001b[0;34m\u001b[0m\u001b[0m\n\u001b[0;32m----> 8\u001b[0;31m \u001b[0;32mimport\u001b[0m \u001b[0mpandas\u001b[0m \u001b[0;32mas\u001b[0m \u001b[0mpd\u001b[0m\u001b[0;34m\u001b[0m\u001b[0;34m\u001b[0m\u001b[0m\n\u001b[0m",
      "\u001b[0;31mModuleNotFoundError\u001b[0m: No module named 'pandas'"
     ]
    }
   ],
   "source": [
    "import numpy as np\n",
    "import sys \n",
    "import os\n",
    "import matplotlib.pyplot as plt\n",
    "import copy \n",
    "import tqdm\n",
    "import cv2\n",
    "import pandas as pd"
   ]
  },
  {
   "cell_type": "code",
   "execution_count": null,
   "metadata": {},
   "outputs": [
    {
     "name": "stderr",
     "output_type": "stream",
     "text": [
      "\r",
      "  0%|          | 0/690 [00:00<?, ?it/s]"
     ]
    },
    {
     "name": "stdout",
     "output_type": "stream",
     "text": [
      "box_num  01 subbox_num  1 density\n"
     ]
    },
    {
     "name": "stderr",
     "output_type": "stream",
     "text": [
      "/home/ha/anaconda3/lib/python3.7/site-packages/ipykernel_launcher.py:71: RuntimeWarning: More than 20 figures have been opened. Figures created through the pyplot interface (`matplotlib.pyplot.figure`) are retained until explicitly closed and may consume too much memory. (To control this warning, see the rcParam `figure.max_open_warning`).\n",
      "/home/ha/anaconda3/lib/python3.7/site-packages/ipykernel_launcher.py:88: RuntimeWarning: More than 20 figures have been opened. Figures created through the pyplot interface (`matplotlib.pyplot.figure`) are retained until explicitly closed and may consume too much memory. (To control this warning, see the rcParam `figure.max_open_warning`).\n",
      "100%|██████████| 690/690 [02:28<00:00,  4.65it/s]\n",
      "  0%|          | 0/674 [00:00<?, ?it/s]"
     ]
    },
    {
     "name": "stdout",
     "output_type": "stream",
     "text": [
      "box_num  01 subbox_num  2 density\n"
     ]
    },
    {
     "name": "stderr",
     "output_type": "stream",
     "text": [
      "100%|██████████| 674/674 [00:42<00:00, 15.85it/s]\n",
      "  0%|          | 0/674 [00:00<?, ?it/s]"
     ]
    },
    {
     "name": "stdout",
     "output_type": "stream",
     "text": [
      "box_num  01 subbox_num  3 density\n"
     ]
    },
    {
     "name": "stderr",
     "output_type": "stream",
     "text": [
      "100%|██████████| 674/674 [01:11<00:00,  9.43it/s]\n",
      "  0%|          | 0/602 [00:00<?, ?it/s]"
     ]
    },
    {
     "name": "stdout",
     "output_type": "stream",
     "text": [
      "box_num  01 subbox_num  4 density\n"
     ]
    },
    {
     "name": "stderr",
     "output_type": "stream",
     "text": [
      "100%|██████████| 602/602 [00:14<00:00, 42.19it/s]\n",
      "  0%|          | 0/650 [00:00<?, ?it/s]"
     ]
    },
    {
     "name": "stdout",
     "output_type": "stream",
     "text": [
      "box_num  01 subbox_num  5 density\n"
     ]
    },
    {
     "name": "stderr",
     "output_type": "stream",
     "text": [
      "100%|██████████| 650/650 [00:43<00:00, 15.10it/s]\n",
      "  0%|          | 0/637 [00:00<?, ?it/s]"
     ]
    },
    {
     "name": "stdout",
     "output_type": "stream",
     "text": [
      "box_num  01 subbox_num  6 density\n"
     ]
    },
    {
     "name": "stderr",
     "output_type": "stream",
     "text": [
      "100%|██████████| 637/637 [00:28<00:00, 22.17it/s]\n",
      "  0%|          | 0/645 [00:00<?, ?it/s]"
     ]
    },
    {
     "name": "stdout",
     "output_type": "stream",
     "text": [
      "box_num  01 subbox_num  7 density\n"
     ]
    },
    {
     "name": "stderr",
     "output_type": "stream",
     "text": [
      "100%|██████████| 645/645 [00:14<00:00, 44.10it/s]\n",
      "  0%|          | 0/672 [00:00<?, ?it/s]"
     ]
    },
    {
     "name": "stdout",
     "output_type": "stream",
     "text": [
      "box_num  01 subbox_num  8 density\n"
     ]
    },
    {
     "name": "stderr",
     "output_type": "stream",
     "text": [
      "100%|██████████| 672/672 [00:58<00:00, 11.44it/s]\n",
      "  0%|          | 0/718 [00:00<?, ?it/s]"
     ]
    },
    {
     "name": "stdout",
     "output_type": "stream",
     "text": [
      "box_num  02 subbox_num  1 density\n"
     ]
    },
    {
     "name": "stderr",
     "output_type": "stream",
     "text": [
      "100%|██████████| 718/718 [00:43<00:00, 16.41it/s]\n",
      "  0%|          | 0/635 [00:00<?, ?it/s]"
     ]
    },
    {
     "name": "stdout",
     "output_type": "stream",
     "text": [
      "box_num  02 subbox_num  2 density\n"
     ]
    },
    {
     "name": "stderr",
     "output_type": "stream",
     "text": [
      "100%|██████████| 635/635 [00:14<00:00, 44.04it/s]\n",
      "  0%|          | 0/709 [00:00<?, ?it/s]"
     ]
    },
    {
     "name": "stdout",
     "output_type": "stream",
     "text": [
      "box_num  02 subbox_num  3 density\n"
     ]
    },
    {
     "name": "stderr",
     "output_type": "stream",
     "text": [
      "100%|██████████| 709/709 [00:29<00:00, 24.45it/s]\n",
      "  0%|          | 0/664 [00:00<?, ?it/s]"
     ]
    },
    {
     "name": "stdout",
     "output_type": "stream",
     "text": [
      "box_num  02 subbox_num  4 density\n"
     ]
    },
    {
     "name": "stderr",
     "output_type": "stream",
     "text": [
      "100%|██████████| 664/664 [00:28<00:00, 23.13it/s]\n",
      "  0%|          | 0/770 [00:00<?, ?it/s]"
     ]
    },
    {
     "name": "stdout",
     "output_type": "stream",
     "text": [
      "box_num  02 subbox_num  5 density\n"
     ]
    },
    {
     "name": "stderr",
     "output_type": "stream",
     "text": [
      "100%|██████████| 770/770 [00:28<00:00, 26.74it/s]\n",
      "  0%|          | 0/691 [00:00<?, ?it/s]"
     ]
    },
    {
     "name": "stdout",
     "output_type": "stream",
     "text": [
      "box_num  02 subbox_num  6 density\n"
     ]
    },
    {
     "name": "stderr",
     "output_type": "stream",
     "text": [
      "100%|██████████| 691/691 [00:43<00:00, 15.89it/s]\n",
      "  0%|          | 0/641 [00:00<?, ?it/s]"
     ]
    },
    {
     "name": "stdout",
     "output_type": "stream",
     "text": [
      "box_num  02 subbox_num  7 density\n"
     ]
    },
    {
     "name": "stderr",
     "output_type": "stream",
     "text": [
      "100%|██████████| 641/641 [00:30<00:00, 21.27it/s]\n",
      "  0%|          | 0/608 [00:00<?, ?it/s]"
     ]
    },
    {
     "name": "stdout",
     "output_type": "stream",
     "text": [
      "box_num  02 subbox_num  8 density\n"
     ]
    },
    {
     "name": "stderr",
     "output_type": "stream",
     "text": [
      "100%|██████████| 608/608 [00:14<00:00, 42.11it/s]\n"
     ]
    }
   ],
   "source": [
    "box_list = ['01','02']\n",
    "\n",
    "#subbox_num = ''\n",
    "\n",
    "subbox_list = ['1','2','3','4','5','6','7','8']\n",
    "#subbox_list = ['1']\n",
    "\n",
    "distance = '40Mpc'\n",
    "\n",
    "if distance == '30Mpc':\n",
    "    box_size = 37\n",
    "if distance == '40Mpc':\n",
    "    box_size = 50\n",
    "for box_num in box_list:\n",
    "    for subbox_num in subbox_list:\n",
    "        data_path = '/storage/filament/data/200Mpc_v2/box'+box_num +'/'\n",
    "        dens_result_path = '/storage/filament/result/cluster_3d/' + distance + '/density_temp/box' + box_num + '/subbox0' +subbox_num + '/dens/'\n",
    "        temp_result_path = '/storage/filament/result/cluster_3d/' + distance + '/density_temp/box' + box_num + '/subbox0' +subbox_num + '/temp/'\n",
    "        data_type = ['a','f','g']\n",
    "        # a = density\n",
    "        # f = temperature\n",
    "        # g = xray   \n",
    "\n",
    "        dens = np.zeros(256**3,dtype='float64')\n",
    "        dens = np.genfromtxt(data_path + '256den18' + data_type[0] + '+1024+' + subbox_num,dtype='float64')\n",
    "        dens_mat = dens.reshape([256,256,256])\n",
    "\n",
    "        temp = np.zeros(256**3,dtype='float64')\n",
    "        temp = np.genfromtxt(data_path + '256den18' + data_type[1] + '+1024+' + subbox_num,dtype='float64')\n",
    "        temp_mat = temp.reshape([256,256,256])\n",
    "\n",
    "        index_path = '/storage/filament/data/200Mpc_v2/box'+box_num +'+Cinfo/'\n",
    "        index = np.genfromtxt(index_path + 'box' + box_num + '+xlum+' + subbox_num+'.dat',dtype='uint8')\n",
    "\n",
    "        x_index = index[:,3]-1\n",
    "        y_index = index[:,2]-1\n",
    "        z_index = index[:,1]-1\n",
    "\n",
    "        coords = np.array(list(zip(x_index,y_index,z_index)))\n",
    "        coords = np.array(sorted(coords, key=lambda x:x[2] ))\n",
    "\n",
    "        box_list =[]\n",
    "        temp_point = np.zeros([box_size*2+1,box_size*2+1,box_size*2+1],dtype='float64')\n",
    "        dens_3d = np.zeros([box_size*2+1,box_size*2+1,box_size*2+1],dtype='float64')\n",
    "\n",
    "        cluster_peak_thres = 2*1.16*10**7\n",
    "\n",
    "        min_thres = 0.3*1.16*10**7\n",
    "        #max_thres = 0.7\n",
    "        #max_thres = 0.99\n",
    "        min_thres_2 = 0.5*1.16*10**7\n",
    "        max_thres_2 = 0.7*1.16*10**7\n",
    "\n",
    "        num=0\n",
    "\n",
    "        print('box_num ', box_num, 'subbox_num ',subbox_num, 'density')\n",
    "\n",
    "        for n,(ix,iy,iz) in enumerate(tqdm.tqdm(coords)):\n",
    "            if (ix < box_size or ix>256-box_size or iy < box_size or iy > 256-box_size or iz <box_size or iz >256-box_size):\n",
    "                continue\n",
    "            else:\n",
    "                if temp_mat[ix,iy,iz] >= cluster_peak_thres:\n",
    "                    #print('box_num ', box_num, 'subbox_num ',subbox_num, 'density',ix,iy,iz)\n",
    "                    dens_3d[:,:,:] = dens_mat[-box_size+ix:box_size+ix+1,-box_size+iy:box_size+iy+1,-box_size+iz:box_size+iz+1]               \n",
    "\n",
    "                    if not os.path.isdir(dens_result_path + str(num) + '/'):\n",
    "                         os.makedirs(dens_result_path + str(num) + '/')\n",
    "                    os.chdir(dens_result_path + str(num) + '/')            \n",
    "\n",
    "                    for nn in range(2*box_size+1):\n",
    "                        plt.figure(figsize=[30,30])\n",
    "                        plt.imsave(str(nn) +'.png',np.log10(dens_3d[:,:,nn]),vmin=0,vmax=4,cmap='gray',dpi=300,format='png')\n",
    "\n",
    "                    if not os.path.isdir(temp_result_path + str(num) + '/'):\n",
    "                         os.makedirs(temp_result_path + str(num) + '/')\n",
    "                    os.chdir(temp_result_path + str(num) + '/')       \n",
    "\n",
    "\n",
    "                    for ni,i in enumerate(range(-box_size,box_size+1)):\n",
    "                        for nj,j in enumerate(range(-box_size,box_size+1)):\n",
    "                            for nk,k in enumerate(range(-box_size,box_size+1)):\n",
    "                                if temp_mat[ix+i,iy+j,iz+k] >= min_thres and temp_mat[ix+i,iy+j,iz+k] <  min_thres_2:\n",
    "                                    temp_point[ni,nj,nk] = 1\n",
    "                                elif temp_mat[ix+i,iy+j,iz+k] >= min_thres_2 and temp_mat[ix+i,iy+j,iz+k] <  max_thres_2:\n",
    "                                    temp_point[ni,nj,nk] = 2\n",
    "\n",
    "                    for nn in range(2*box_size+1):\n",
    "                        plt.figure(figsize=[30,30])\n",
    "                        plt.imsave(str(nn) +'.png',temp_point[:,:,nn],vmin=0,vmax=2,cmap='gray',dpi=300,format='png')\n",
    "\n",
    "                    num = num+1\n",
    "\n"
   ]
  },
  {
   "cell_type": "code",
   "execution_count": null,
   "metadata": {},
   "outputs": [],
   "source": []
  },
  {
   "cell_type": "code",
   "execution_count": null,
   "metadata": {},
   "outputs": [
    {
     "name": "stderr",
     "output_type": "stream",
     "text": [
      "/home/ha/anaconda3/envs/research_filament/lib/python3.6/site-packages/ipykernel_launcher.py:33: RuntimeWarning: divide by zero encountered in log10\n",
      "/home/ha/anaconda3/envs/research_filament/lib/python3.6/site-packages/ipykernel_launcher.py:32: RuntimeWarning: More than 20 figures have been opened. Figures created through the pyplot interface (`matplotlib.pyplot.figure`) are retained until explicitly closed and may consume too much memory. (To control this warning, see the rcParam `figure.max_open_warning`).\n"
     ]
    }
   ],
   "source": [
    "distance = '40Mpc'\n",
    "\n",
    "if distance == '30Mpc':\n",
    "    box_size = 37\n",
    "if distance == '40Mpc':\n",
    "    box_size = 50\n",
    "\n",
    "ref_path =   '/storage/filament/data/200Mpc_v2/'\n",
    "box_list = ['box01','box02']    \n",
    "for box_num in box_list:\n",
    "    data_path = '/storage/filament/data/200Mpc_v2/' + box_num + '_add/' + box_num + '_norm/'\n",
    "    for subbox_name in os.listdir(data_path):\n",
    "        dens_result_path = '/storage/filament/result/cluster_3d/' + distance + '/density_temp/' + box_num + '_add/' + subbox_name[:-4] + '/' \n",
    "\n",
    "        data_type = ['a','f','g']\n",
    "        # a = density\n",
    "        # f = temperature\n",
    "        # g = xray   \n",
    "\n",
    "        dens = np.zeros(101**3,dtype='float64')\n",
    "        dens = np.genfromtxt(data_path + subbox_name,dtype='float64')\n",
    "        dens_3d = dens.reshape([101,101,101])\n",
    "\n",
    "        dens_3d = np.zeros([box_size*2+1,box_size*2+1,box_size*2+1],dtype='float64')\n",
    "\n",
    "\n",
    "        if not os.path.isdir(dens_result_path):\n",
    "             os.makedirs(dens_result_path)\n",
    "        os.chdir(dens_result_path)            \n",
    "\n",
    "        for nn in range(2*box_size+1):\n",
    "            plt.figure(figsize=[30,30])\n",
    "            plt.imsave(str(nn) +'.png',np.log10(dens_3d[:,:,nn]),vmin=0,vmax=4,cmap='gray',dpi=300,format='png')\n",
    "\n"
   ]
  },
  {
   "cell_type": "code",
   "execution_count": null,
   "metadata": {},
   "outputs": [],
   "source": []
  }
 ],
 "metadata": {
  "kernelspec": {
   "display_name": "Python 3",
   "language": "python",
   "name": "python3"
  },
  "language_info": {
   "codemirror_mode": {
    "name": "ipython",
    "version": 3
   },
   "file_extension": ".py",
   "mimetype": "text/x-python",
   "name": "python",
   "nbconvert_exporter": "python",
   "pygments_lexer": "ipython3",
   "version": "3.6.9"
  }
 },
 "nbformat": 4,
 "nbformat_minor": 2
}
