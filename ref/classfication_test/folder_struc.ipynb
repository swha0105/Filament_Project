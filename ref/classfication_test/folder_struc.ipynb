{
 "cells": [
  {
   "cell_type": "code",
   "execution_count": 1,
   "metadata": {},
   "outputs": [],
   "source": [
    "import numpy as np\n",
    "import sys \n",
    "import os\n",
    "import matplotlib.pyplot as plt\n",
    "import copy \n",
    "import tqdm\n",
    "import cv2"
   ]
  },
  {
   "cell_type": "code",
   "execution_count": 15,
   "metadata": {},
   "outputs": [],
   "source": [
    "path = '/storage/filament/result/cluster_3d/40Mpc/density_smoothing_plot_5_v2/'\n",
    "virgo_list = np.genfromtxt(path + 'virgo_list',dtype='str')"
   ]
  },
  {
   "cell_type": "code",
   "execution_count": 16,
   "metadata": {},
   "outputs": [
    {
     "data": {
      "text/plain": [
       "array([['01', '01', '0'],\n",
       "       ['01', '03', '0'],\n",
       "       ['01', '08', '0'],\n",
       "       ['01', '08', '2'],\n",
       "       ['02', '02', '0'],\n",
       "       ['02', '04', '0'],\n",
       "       ['02', '05', '1'],\n",
       "       ['10', '01', '06'],\n",
       "       ['10', '02', '01'],\n",
       "       ['10', '02', '02'],\n",
       "       ['10', '03', '04'],\n",
       "       ['10', '03', '05'],\n",
       "       ['10', '05', '01'],\n",
       "       ['10', '05', '04'],\n",
       "       ['10', '06', '04'],\n",
       "       ['10', '07', '01'],\n",
       "       ['20', '01', '14'],\n",
       "       ['20', '01', '15'],\n",
       "       ['20', '02', '01'],\n",
       "       ['20', '02', '04'],\n",
       "       ['20', '03', '04'],\n",
       "       ['20', '05', '02'],\n",
       "       ['20', '05', '06']], dtype='<U2')"
      ]
     },
     "execution_count": 16,
     "metadata": {},
     "output_type": "execute_result"
    }
   ],
   "source": [
    "virgo_list"
   ]
  },
  {
   "cell_type": "code",
   "execution_count": 17,
   "metadata": {},
   "outputs": [
    {
     "data": {
      "text/plain": [
       "'01'"
      ]
     },
     "execution_count": 17,
     "metadata": {},
     "output_type": "execute_result"
    }
   ],
   "source": [
    "virgo_list[0][0]"
   ]
  },
  {
   "cell_type": "code",
   "execution_count": 30,
   "metadata": {},
   "outputs": [],
   "source": [
    "virgo_path = []\n",
    "for i in range(len(virgo_list)):\n",
    "    if int(virgo_list[i][0]) < 10:\n",
    "        tmp_path = str('box' + virgo_list[i][0] + '/subbox' + virgo_list[i][1] + '/' + virgo_list[i][2])\n",
    "        virgo_path.append(path + tmp_path)\n",
    "    elif    int(virgo_list[i][0]) >= 10:\n",
    "        box_num = int(int(virgo_list[i][0])/10)\n",
    "        tmp_path = str('box0' + str(box_num) + '/subbox' + virgo_list[i][1] + '/' + virgo_list[i][2])\n",
    "        virgo_path.append(path + tmp_path)"
   ]
  },
  {
   "cell_type": "code",
   "execution_count": 31,
   "metadata": {},
   "outputs": [
    {
     "data": {
      "text/plain": [
       "['/storage/filament/result/cluster_3d/40Mpc/density_smoothing_plot_5_v2/box01/subbox01/0',\n",
       " '/storage/filament/result/cluster_3d/40Mpc/density_smoothing_plot_5_v2/box01/subbox03/0',\n",
       " '/storage/filament/result/cluster_3d/40Mpc/density_smoothing_plot_5_v2/box01/subbox08/0',\n",
       " '/storage/filament/result/cluster_3d/40Mpc/density_smoothing_plot_5_v2/box01/subbox08/2',\n",
       " '/storage/filament/result/cluster_3d/40Mpc/density_smoothing_plot_5_v2/box02/subbox02/0',\n",
       " '/storage/filament/result/cluster_3d/40Mpc/density_smoothing_plot_5_v2/box02/subbox04/0',\n",
       " '/storage/filament/result/cluster_3d/40Mpc/density_smoothing_plot_5_v2/box02/subbox05/1',\n",
       " '/storage/filament/result/cluster_3d/40Mpc/density_smoothing_plot_5_v2/box01/subbox01/06',\n",
       " '/storage/filament/result/cluster_3d/40Mpc/density_smoothing_plot_5_v2/box01/subbox02/01',\n",
       " '/storage/filament/result/cluster_3d/40Mpc/density_smoothing_plot_5_v2/box01/subbox02/02',\n",
       " '/storage/filament/result/cluster_3d/40Mpc/density_smoothing_plot_5_v2/box01/subbox03/04',\n",
       " '/storage/filament/result/cluster_3d/40Mpc/density_smoothing_plot_5_v2/box01/subbox03/05',\n",
       " '/storage/filament/result/cluster_3d/40Mpc/density_smoothing_plot_5_v2/box01/subbox05/01',\n",
       " '/storage/filament/result/cluster_3d/40Mpc/density_smoothing_plot_5_v2/box01/subbox05/04',\n",
       " '/storage/filament/result/cluster_3d/40Mpc/density_smoothing_plot_5_v2/box01/subbox06/04',\n",
       " '/storage/filament/result/cluster_3d/40Mpc/density_smoothing_plot_5_v2/box01/subbox07/01',\n",
       " '/storage/filament/result/cluster_3d/40Mpc/density_smoothing_plot_5_v2/box02/subbox01/14',\n",
       " '/storage/filament/result/cluster_3d/40Mpc/density_smoothing_plot_5_v2/box02/subbox01/15',\n",
       " '/storage/filament/result/cluster_3d/40Mpc/density_smoothing_plot_5_v2/box02/subbox02/01',\n",
       " '/storage/filament/result/cluster_3d/40Mpc/density_smoothing_plot_5_v2/box02/subbox02/04',\n",
       " '/storage/filament/result/cluster_3d/40Mpc/density_smoothing_plot_5_v2/box02/subbox03/04',\n",
       " '/storage/filament/result/cluster_3d/40Mpc/density_smoothing_plot_5_v2/box02/subbox05/02',\n",
       " '/storage/filament/result/cluster_3d/40Mpc/density_smoothing_plot_5_v2/box02/subbox05/06']"
      ]
     },
     "execution_count": 31,
     "metadata": {},
     "output_type": "execute_result"
    }
   ],
   "source": [
    "virgo_path"
   ]
  },
  {
   "cell_type": "code",
   "execution_count": null,
   "metadata": {},
   "outputs": [],
   "source": []
  }
 ],
 "metadata": {
  "kernelspec": {
   "display_name": "Python 3",
   "language": "python",
   "name": "python3"
  },
  "language_info": {
   "codemirror_mode": {
    "name": "ipython",
    "version": 3
   },
   "file_extension": ".py",
   "mimetype": "text/x-python",
   "name": "python",
   "nbconvert_exporter": "python",
   "pygments_lexer": "ipython3",
   "version": "3.6.9"
  }
 },
 "nbformat": 4,
 "nbformat_minor": 2
}
